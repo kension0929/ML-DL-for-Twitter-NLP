{
  "nbformat": 4,
  "nbformat_minor": 0,
  "metadata": {
    "colab": {
      "name": "DDD Demo v1F.ipynb",
      "provenance": [],
      "collapsed_sections": [],
      "toc_visible": true,
      "authorship_tag": "ABX9TyMf1ipiVCnS2ffA9ENnkBV1",
      "include_colab_link": true
    },
    "kernelspec": {
      "name": "python3",
      "display_name": "Python 3"
    },
    "accelerator": "GPU"
  },
  "cells": [
    {
      "cell_type": "markdown",
      "metadata": {
        "id": "view-in-github",
        "colab_type": "text"
      },
      "source": [
        "<a href=\"https://colab.research.google.com/github/kension0929/MyProject/blob/master/DDD_Demo_v1F.ipynb\" target=\"_parent\"><img src=\"https://colab.research.google.com/assets/colab-badge.svg\" alt=\"Open In Colab\"/></a>"
      ]
    },
    {
      "cell_type": "markdown",
      "metadata": {
        "id": "7H6hSvYjpmyp",
        "colab_type": "text"
      },
      "source": [
        "# Setting Environment"
      ]
    },
    {
      "cell_type": "code",
      "metadata": {
        "id": "48qrusPy0KMq",
        "colab_type": "code",
        "colab": {}
      },
      "source": [
        "from google.colab import drive  # to mount Drive to Colab notebook\n",
        "\n",
        "# Connect Google Drive to Colab\n",
        "drive.mount('/content/gdrive')\n",
        "# Create a variable to store the data path on your drive\n",
        "path = './gdrive/My Drive/0.Projects/Project/Colab Demo Data/'"
      ],
      "execution_count": 0,
      "outputs": []
    },
    {
      "cell_type": "markdown",
      "metadata": {
        "id": "7sl5S1VycXMM",
        "colab_type": "text"
      },
      "source": [
        "# Collecting Data from Twitter API"
      ]
    },
    {
      "cell_type": "code",
      "metadata": {
        "id": "oUJvWd-l0Tlq",
        "colab_type": "code",
        "colab": {}
      },
      "source": [
        "import tweepy                   # Python wrapper around Twitter API\n",
        "import json\n",
        "import csv\n",
        "from datetime import date\n",
        "from datetime import datetime\n",
        "import time\n",
        "\n",
        "from tweepy import API \n",
        "from tweepy import Cursor\n",
        "from tweepy.streaming import StreamListener\n",
        "from tweepy import OAuthHandler\n",
        "from tweepy import Stream\n",
        "\n",
        "from textblob import TextBlob\n",
        " \n",
        "import matplotlib.pyplot as plt\n",
        "import numpy as np\n",
        "import pandas as pd\n",
        "import re"
      ],
      "execution_count": 0,
      "outputs": []
    },
    {
      "cell_type": "code",
      "metadata": {
        "id": "gthBUqmn0TzP",
        "colab_type": "code",
        "colab": {}
      },
      "source": [
        "auth = tweepy.OAuthHandler('xxxxxx', 'xxxx')\n",
        "auth.set_access_token('xxxxx', 'xxxxxx')\n",
        "api = tweepy.API(auth)"
      ],
      "execution_count": 0,
      "outputs": []
    },
    {
      "cell_type": "code",
      "metadata": {
        "id": "_3MJ7Qyr6trW",
        "colab_type": "code",
        "outputId": "96dc34e9-df57-4f62-908f-bb28722bc4f8",
        "colab": {
          "base_uri": "https://localhost:8080/",
          "height": 742
        }
      },
      "source": [
        "\n",
        "screen_name = 'amazon' #'LeoDiCaprio'\n",
        "\n",
        "# 抓取用户主页上的时间轴里的内容\n",
        "public_tweets = api.user_timeline(screen_name, count=200)\n",
        " \n",
        "# Tweets\n",
        "tweets_pub = [[tweet.id_str, tweet.author.name, tweet.author.id_str, tweet.created_at, tweet.text, tweet.retweet_count, tweet.favorite_count] \n",
        "              for tweet in public_tweets]\n",
        "\n",
        "df_tweets_pub = pd.DataFrame(data=tweets_pub, \n",
        "                 columns=['id', 'author', 'author_id', 'date', 'tweets', 'retweets','likes'])\n",
        "\n",
        "df_tweets_pub['tweets_orig']=df_tweets_pub['tweets']\n",
        "\n",
        "# 去除重複\n",
        "df_tweets_pub = df_tweets_pub.drop_duplicates(['tweets'])\n",
        "# 去除空白\n",
        "df_tweets_pub.dropna(subset=['tweets'], inplace=True)\n",
        "\n",
        "df_tweets_pub"
      ],
      "execution_count": 0,
      "outputs": [
        {
          "output_type": "execute_result",
          "data": {
            "text/html": [
              "<div>\n",
              "<style scoped>\n",
              "    .dataframe tbody tr th:only-of-type {\n",
              "        vertical-align: middle;\n",
              "    }\n",
              "\n",
              "    .dataframe tbody tr th {\n",
              "        vertical-align: top;\n",
              "    }\n",
              "\n",
              "    .dataframe thead th {\n",
              "        text-align: right;\n",
              "    }\n",
              "</style>\n",
              "<table border=\"1\" class=\"dataframe\">\n",
              "  <thead>\n",
              "    <tr style=\"text-align: right;\">\n",
              "      <th></th>\n",
              "      <th>id</th>\n",
              "      <th>author</th>\n",
              "      <th>author_id</th>\n",
              "      <th>date</th>\n",
              "      <th>tweets</th>\n",
              "      <th>retweets</th>\n",
              "      <th>likes</th>\n",
              "      <th>tweets_orig</th>\n",
              "    </tr>\n",
              "  </thead>\n",
              "  <tbody>\n",
              "    <tr>\n",
              "      <th>0</th>\n",
              "      <td>1252220256422187009</td>\n",
              "      <td>Amazon</td>\n",
              "      <td>20793816</td>\n",
              "      <td>2020-04-20 12:59:08</td>\n",
              "      <td>Acts of kindness change the world, and we’re g...</td>\n",
              "      <td>13</td>\n",
              "      <td>86</td>\n",
              "      <td>Acts of kindness change the world, and we’re g...</td>\n",
              "    </tr>\n",
              "    <tr>\n",
              "      <th>1</th>\n",
              "      <td>1251675014736293888</td>\n",
              "      <td>Amazon</td>\n",
              "      <td>20793816</td>\n",
              "      <td>2020-04-19 00:52:33</td>\n",
              "      <td>@PolishedTalons Your cardboard flower garden l...</td>\n",
              "      <td>0</td>\n",
              "      <td>1</td>\n",
              "      <td>@PolishedTalons Your cardboard flower garden l...</td>\n",
              "    </tr>\n",
              "    <tr>\n",
              "      <th>2</th>\n",
              "      <td>1251640541072236544</td>\n",
              "      <td>Amazon</td>\n",
              "      <td>20793816</td>\n",
              "      <td>2020-04-18 22:35:34</td>\n",
              "      <td>@fishsalsa We're happy you're enjoying it! 🌻🌷</td>\n",
              "      <td>1</td>\n",
              "      <td>1</td>\n",
              "      <td>@fishsalsa We're happy you're enjoying it! 🌻🌷</td>\n",
              "    </tr>\n",
              "    <tr>\n",
              "      <th>3</th>\n",
              "      <td>1251623415376732165</td>\n",
              "      <td>Amazon</td>\n",
              "      <td>20793816</td>\n",
              "      <td>2020-04-18 21:27:30</td>\n",
              "      <td>@RobGrasso2 Happy reading! 📚 📖 ❤️</td>\n",
              "      <td>0</td>\n",
              "      <td>1</td>\n",
              "      <td>@RobGrasso2 Happy reading! 📚 📖 ❤️</td>\n",
              "    </tr>\n",
              "    <tr>\n",
              "      <th>4</th>\n",
              "      <td>1251623010940919809</td>\n",
              "      <td>Amazon</td>\n",
              "      <td>20793816</td>\n",
              "      <td>2020-04-18 21:25:54</td>\n",
              "      <td>@AnxietyInTheSky 🐻 We're bear-y thankful for y...</td>\n",
              "      <td>1</td>\n",
              "      <td>1</td>\n",
              "      <td>@AnxietyInTheSky 🐻 We're bear-y thankful for y...</td>\n",
              "    </tr>\n",
              "    <tr>\n",
              "      <th>...</th>\n",
              "      <td>...</td>\n",
              "      <td>...</td>\n",
              "      <td>...</td>\n",
              "      <td>...</td>\n",
              "      <td>...</td>\n",
              "      <td>...</td>\n",
              "      <td>...</td>\n",
              "      <td>...</td>\n",
              "    </tr>\n",
              "    <tr>\n",
              "      <th>195</th>\n",
              "      <td>1245130798484926466</td>\n",
              "      <td>Amazon</td>\n",
              "      <td>20793816</td>\n",
              "      <td>2020-03-31 23:28:10</td>\n",
              "      <td>@custommediaco It's great to hear your mother-...</td>\n",
              "      <td>1</td>\n",
              "      <td>6</td>\n",
              "      <td>@custommediaco It's great to hear your mother-...</td>\n",
              "    </tr>\n",
              "    <tr>\n",
              "      <th>196</th>\n",
              "      <td>1245130522461982734</td>\n",
              "      <td>Amazon</td>\n",
              "      <td>20793816</td>\n",
              "      <td>2020-03-31 23:27:04</td>\n",
              "      <td>@virginiakbeard Seems like the kiddos always l...</td>\n",
              "      <td>0</td>\n",
              "      <td>0</td>\n",
              "      <td>@virginiakbeard Seems like the kiddos always l...</td>\n",
              "    </tr>\n",
              "    <tr>\n",
              "      <th>197</th>\n",
              "      <td>1245067046964146179</td>\n",
              "      <td>Amazon</td>\n",
              "      <td>20793816</td>\n",
              "      <td>2020-03-31 19:14:50</td>\n",
              "      <td>@StacyZapar Looks like Nola will be busy for a...</td>\n",
              "      <td>1</td>\n",
              "      <td>4</td>\n",
              "      <td>@StacyZapar Looks like Nola will be busy for a...</td>\n",
              "    </tr>\n",
              "    <tr>\n",
              "      <th>198</th>\n",
              "      <td>1245060377081192448</td>\n",
              "      <td>Amazon</td>\n",
              "      <td>20793816</td>\n",
              "      <td>2020-03-31 18:48:20</td>\n",
              "      <td>@MurnPhoto 🐳 We're so glad we could remind you...</td>\n",
              "      <td>0</td>\n",
              "      <td>1</td>\n",
              "      <td>@MurnPhoto 🐳 We're so glad we could remind you...</td>\n",
              "    </tr>\n",
              "    <tr>\n",
              "      <th>199</th>\n",
              "      <td>1245060004027273219</td>\n",
              "      <td>Amazon</td>\n",
              "      <td>20793816</td>\n",
              "      <td>2020-03-31 18:46:51</td>\n",
              "      <td>@sostrom We'd love to send Izzy a surprise tha...</td>\n",
              "      <td>0</td>\n",
              "      <td>0</td>\n",
              "      <td>@sostrom We'd love to send Izzy a surprise tha...</td>\n",
              "    </tr>\n",
              "  </tbody>\n",
              "</table>\n",
              "<p>200 rows × 8 columns</p>\n",
              "</div>"
            ],
            "text/plain": [
              "                      id  ...                                        tweets_orig\n",
              "0    1252220256422187009  ...  Acts of kindness change the world, and we’re g...\n",
              "1    1251675014736293888  ...  @PolishedTalons Your cardboard flower garden l...\n",
              "2    1251640541072236544  ...      @fishsalsa We're happy you're enjoying it! 🌻🌷\n",
              "3    1251623415376732165  ...                  @RobGrasso2 Happy reading! 📚 📖 ❤️\n",
              "4    1251623010940919809  ...  @AnxietyInTheSky 🐻 We're bear-y thankful for y...\n",
              "..                   ...  ...                                                ...\n",
              "195  1245130798484926466  ...  @custommediaco It's great to hear your mother-...\n",
              "196  1245130522461982734  ...  @virginiakbeard Seems like the kiddos always l...\n",
              "197  1245067046964146179  ...  @StacyZapar Looks like Nola will be busy for a...\n",
              "198  1245060377081192448  ...  @MurnPhoto 🐳 We're so glad we could remind you...\n",
              "199  1245060004027273219  ...  @sostrom We'd love to send Izzy a surprise tha...\n",
              "\n",
              "[200 rows x 8 columns]"
            ]
          },
          "metadata": {
            "tags": []
          },
          "execution_count": 4
        }
      ]
    },
    {
      "cell_type": "markdown",
      "metadata": {
        "id": "9lJSf_EJceK2",
        "colab_type": "text"
      },
      "source": [
        "## Retrieve Keywords and Infomation"
      ]
    },
    {
      "cell_type": "code",
      "metadata": {
        "id": "4TxHEL06O3Ma",
        "colab_type": "code",
        "outputId": "5733ca21-b1b1-4242-b703-c37f23986ffc",
        "colab": {
          "base_uri": "https://localhost:8080/",
          "height": 779
        }
      },
      "source": [
        "# Retrieve all @User\n",
        "\n",
        "matches = df_tweets_pub['tweets_orig'].str.extractall(r'(@[\\w]*)').unstack()\n",
        "\n",
        "#Combi\n",
        "# df_tweets_pub['RTA'] = [','.join(filter(None,li)) for li in matches.values]\n",
        "\n",
        "df_tweets_pub['RTA'] = ''\n",
        "for _,col in matches.fillna('').iteritems():\n",
        "    df_tweets_pub['RTA'] += col + ' '\n",
        "df_tweets_pub['RTA'] = df_tweets_pub['RTA'].str.rstrip(',')\n",
        "\n",
        "# Show Result\n",
        "df_tweets_pub[df_tweets_pub['RTA'].notnull()]"
      ],
      "execution_count": 0,
      "outputs": [
        {
          "output_type": "execute_result",
          "data": {
            "text/html": [
              "<div>\n",
              "<style scoped>\n",
              "    .dataframe tbody tr th:only-of-type {\n",
              "        vertical-align: middle;\n",
              "    }\n",
              "\n",
              "    .dataframe tbody tr th {\n",
              "        vertical-align: top;\n",
              "    }\n",
              "\n",
              "    .dataframe thead th {\n",
              "        text-align: right;\n",
              "    }\n",
              "</style>\n",
              "<table border=\"1\" class=\"dataframe\">\n",
              "  <thead>\n",
              "    <tr style=\"text-align: right;\">\n",
              "      <th></th>\n",
              "      <th>id</th>\n",
              "      <th>author</th>\n",
              "      <th>author_id</th>\n",
              "      <th>date</th>\n",
              "      <th>tweets</th>\n",
              "      <th>retweets</th>\n",
              "      <th>likes</th>\n",
              "      <th>tweets_orig</th>\n",
              "      <th>RTA</th>\n",
              "    </tr>\n",
              "  </thead>\n",
              "  <tbody>\n",
              "    <tr>\n",
              "      <th>1</th>\n",
              "      <td>1251675014736293888</td>\n",
              "      <td>Amazon</td>\n",
              "      <td>20793816</td>\n",
              "      <td>2020-04-19 00:52:33</td>\n",
              "      <td>@PolishedTalons Your cardboard flower garden l...</td>\n",
              "      <td>0</td>\n",
              "      <td>1</td>\n",
              "      <td>@PolishedTalons Your cardboard flower garden l...</td>\n",
              "      <td>@PolishedTalons</td>\n",
              "    </tr>\n",
              "    <tr>\n",
              "      <th>2</th>\n",
              "      <td>1251640541072236544</td>\n",
              "      <td>Amazon</td>\n",
              "      <td>20793816</td>\n",
              "      <td>2020-04-18 22:35:34</td>\n",
              "      <td>@fishsalsa We're happy you're enjoying it! 🌻🌷</td>\n",
              "      <td>1</td>\n",
              "      <td>1</td>\n",
              "      <td>@fishsalsa We're happy you're enjoying it! 🌻🌷</td>\n",
              "      <td>@fishsalsa</td>\n",
              "    </tr>\n",
              "    <tr>\n",
              "      <th>3</th>\n",
              "      <td>1251623415376732165</td>\n",
              "      <td>Amazon</td>\n",
              "      <td>20793816</td>\n",
              "      <td>2020-04-18 21:27:30</td>\n",
              "      <td>@RobGrasso2 Happy reading! 📚 📖 ❤️</td>\n",
              "      <td>0</td>\n",
              "      <td>1</td>\n",
              "      <td>@RobGrasso2 Happy reading! 📚 📖 ❤️</td>\n",
              "      <td>@RobGrasso2</td>\n",
              "    </tr>\n",
              "    <tr>\n",
              "      <th>4</th>\n",
              "      <td>1251623010940919809</td>\n",
              "      <td>Amazon</td>\n",
              "      <td>20793816</td>\n",
              "      <td>2020-04-18 21:25:54</td>\n",
              "      <td>@AnxietyInTheSky 🐻 We're bear-y thankful for y...</td>\n",
              "      <td>1</td>\n",
              "      <td>1</td>\n",
              "      <td>@AnxietyInTheSky 🐻 We're bear-y thankful for y...</td>\n",
              "      <td>@AnxietyInTheSky</td>\n",
              "    </tr>\n",
              "    <tr>\n",
              "      <th>5</th>\n",
              "      <td>1251597422880587776</td>\n",
              "      <td>Amazon</td>\n",
              "      <td>20793816</td>\n",
              "      <td>2020-04-18 19:44:13</td>\n",
              "      <td>@Milenamillo1 It's great to hear we can help b...</td>\n",
              "      <td>2</td>\n",
              "      <td>1</td>\n",
              "      <td>@Milenamillo1 It's great to hear we can help b...</td>\n",
              "      <td>@Milenamillo1</td>\n",
              "    </tr>\n",
              "    <tr>\n",
              "      <th>...</th>\n",
              "      <td>...</td>\n",
              "      <td>...</td>\n",
              "      <td>...</td>\n",
              "      <td>...</td>\n",
              "      <td>...</td>\n",
              "      <td>...</td>\n",
              "      <td>...</td>\n",
              "      <td>...</td>\n",
              "      <td>...</td>\n",
              "    </tr>\n",
              "    <tr>\n",
              "      <th>195</th>\n",
              "      <td>1245130798484926466</td>\n",
              "      <td>Amazon</td>\n",
              "      <td>20793816</td>\n",
              "      <td>2020-03-31 23:28:10</td>\n",
              "      <td>@custommediaco It's great to hear your mother-...</td>\n",
              "      <td>1</td>\n",
              "      <td>6</td>\n",
              "      <td>@custommediaco It's great to hear your mother-...</td>\n",
              "      <td>@custommediaco</td>\n",
              "    </tr>\n",
              "    <tr>\n",
              "      <th>196</th>\n",
              "      <td>1245130522461982734</td>\n",
              "      <td>Amazon</td>\n",
              "      <td>20793816</td>\n",
              "      <td>2020-03-31 23:27:04</td>\n",
              "      <td>@virginiakbeard Seems like the kiddos always l...</td>\n",
              "      <td>0</td>\n",
              "      <td>0</td>\n",
              "      <td>@virginiakbeard Seems like the kiddos always l...</td>\n",
              "      <td>@virginiakbeard</td>\n",
              "    </tr>\n",
              "    <tr>\n",
              "      <th>197</th>\n",
              "      <td>1245067046964146179</td>\n",
              "      <td>Amazon</td>\n",
              "      <td>20793816</td>\n",
              "      <td>2020-03-31 19:14:50</td>\n",
              "      <td>@StacyZapar Looks like Nola will be busy for a...</td>\n",
              "      <td>1</td>\n",
              "      <td>4</td>\n",
              "      <td>@StacyZapar Looks like Nola will be busy for a...</td>\n",
              "      <td>@StacyZapar</td>\n",
              "    </tr>\n",
              "    <tr>\n",
              "      <th>198</th>\n",
              "      <td>1245060377081192448</td>\n",
              "      <td>Amazon</td>\n",
              "      <td>20793816</td>\n",
              "      <td>2020-03-31 18:48:20</td>\n",
              "      <td>@MurnPhoto 🐳 We're so glad we could remind you...</td>\n",
              "      <td>0</td>\n",
              "      <td>1</td>\n",
              "      <td>@MurnPhoto 🐳 We're so glad we could remind you...</td>\n",
              "      <td>@MurnPhoto</td>\n",
              "    </tr>\n",
              "    <tr>\n",
              "      <th>199</th>\n",
              "      <td>1245060004027273219</td>\n",
              "      <td>Amazon</td>\n",
              "      <td>20793816</td>\n",
              "      <td>2020-03-31 18:46:51</td>\n",
              "      <td>@sostrom We'd love to send Izzy a surprise tha...</td>\n",
              "      <td>0</td>\n",
              "      <td>0</td>\n",
              "      <td>@sostrom We'd love to send Izzy a surprise tha...</td>\n",
              "      <td>@sostrom</td>\n",
              "    </tr>\n",
              "  </tbody>\n",
              "</table>\n",
              "<p>193 rows × 9 columns</p>\n",
              "</div>"
            ],
            "text/plain": [
              "                      id  ...                  RTA\n",
              "1    1251675014736293888  ...   @PolishedTalons   \n",
              "2    1251640541072236544  ...        @fishsalsa   \n",
              "3    1251623415376732165  ...       @RobGrasso2   \n",
              "4    1251623010940919809  ...  @AnxietyInTheSky   \n",
              "5    1251597422880587776  ...     @Milenamillo1   \n",
              "..                   ...  ...                  ...\n",
              "195  1245130798484926466  ...    @custommediaco   \n",
              "196  1245130522461982734  ...   @virginiakbeard   \n",
              "197  1245067046964146179  ...       @StacyZapar   \n",
              "198  1245060377081192448  ...        @MurnPhoto   \n",
              "199  1245060004027273219  ...          @sostrom   \n",
              "\n",
              "[193 rows x 9 columns]"
            ]
          },
          "metadata": {
            "tags": []
          },
          "execution_count": 5
        }
      ]
    },
    {
      "cell_type": "code",
      "metadata": {
        "id": "WN-68bSn-Qgb",
        "colab_type": "code",
        "outputId": "77513aa4-d4f3-46c0-8b97-5a5f5876422b",
        "colab": {
          "base_uri": "https://localhost:8080/",
          "height": 779
        }
      },
      "source": [
        "# Retrieve Specified Keywords\n",
        "\n",
        "keywords   = ['coronavirus','China']\n",
        "\n",
        "pat = '|'.join(format(x) for x in keywords)\n",
        "matches = df_tweets_pub['tweets_orig'].str.extractall('('+ pat + ')').unstack()\n",
        "\n",
        "# Combi\n",
        "df_tweets_pub['KeyWords'] = ''\n",
        "for _,col in matches.fillna('').iteritems():\n",
        "    df_tweets_pub['KeyWords'] += col + ' '\n",
        "df_tweets_pub['KeyWords'] = df_tweets_pub['KeyWords'].str.rstrip(',')\n",
        "\n",
        "# Show Result\n",
        "df_tweets_pub[df_tweets_pub['KeyWords'].notnull()]\n"
      ],
      "execution_count": 0,
      "outputs": [
        {
          "output_type": "execute_result",
          "data": {
            "text/html": [
              "<div>\n",
              "<style scoped>\n",
              "    .dataframe tbody tr th:only-of-type {\n",
              "        vertical-align: middle;\n",
              "    }\n",
              "\n",
              "    .dataframe tbody tr th {\n",
              "        vertical-align: top;\n",
              "    }\n",
              "\n",
              "    .dataframe thead th {\n",
              "        text-align: right;\n",
              "    }\n",
              "</style>\n",
              "<table border=\"1\" class=\"dataframe\">\n",
              "  <thead>\n",
              "    <tr style=\"text-align: right;\">\n",
              "      <th></th>\n",
              "      <th>id</th>\n",
              "      <th>author</th>\n",
              "      <th>author_id</th>\n",
              "      <th>date</th>\n",
              "      <th>tweets</th>\n",
              "      <th>retweets</th>\n",
              "      <th>likes</th>\n",
              "      <th>tweets_orig</th>\n",
              "      <th>RTA</th>\n",
              "      <th>KeyWords</th>\n",
              "    </tr>\n",
              "  </thead>\n",
              "  <tbody>\n",
              "    <tr>\n",
              "      <th>0</th>\n",
              "      <td>1252220256422187009</td>\n",
              "      <td>Amazon</td>\n",
              "      <td>20793816</td>\n",
              "      <td>2020-04-20 12:59:08</td>\n",
              "      <td>Acts of kindness change the world, and we’re g...</td>\n",
              "      <td>13</td>\n",
              "      <td>86</td>\n",
              "      <td>Acts of kindness change the world, and we’re g...</td>\n",
              "      <td>NaN</td>\n",
              "      <td></td>\n",
              "    </tr>\n",
              "    <tr>\n",
              "      <th>1</th>\n",
              "      <td>1251675014736293888</td>\n",
              "      <td>Amazon</td>\n",
              "      <td>20793816</td>\n",
              "      <td>2020-04-19 00:52:33</td>\n",
              "      <td>@PolishedTalons Your cardboard flower garden l...</td>\n",
              "      <td>0</td>\n",
              "      <td>1</td>\n",
              "      <td>@PolishedTalons Your cardboard flower garden l...</td>\n",
              "      <td>@PolishedTalons</td>\n",
              "      <td></td>\n",
              "    </tr>\n",
              "    <tr>\n",
              "      <th>2</th>\n",
              "      <td>1251640541072236544</td>\n",
              "      <td>Amazon</td>\n",
              "      <td>20793816</td>\n",
              "      <td>2020-04-18 22:35:34</td>\n",
              "      <td>@fishsalsa We're happy you're enjoying it! 🌻🌷</td>\n",
              "      <td>1</td>\n",
              "      <td>1</td>\n",
              "      <td>@fishsalsa We're happy you're enjoying it! 🌻🌷</td>\n",
              "      <td>@fishsalsa</td>\n",
              "      <td></td>\n",
              "    </tr>\n",
              "    <tr>\n",
              "      <th>3</th>\n",
              "      <td>1251623415376732165</td>\n",
              "      <td>Amazon</td>\n",
              "      <td>20793816</td>\n",
              "      <td>2020-04-18 21:27:30</td>\n",
              "      <td>@RobGrasso2 Happy reading! 📚 📖 ❤️</td>\n",
              "      <td>0</td>\n",
              "      <td>1</td>\n",
              "      <td>@RobGrasso2 Happy reading! 📚 📖 ❤️</td>\n",
              "      <td>@RobGrasso2</td>\n",
              "      <td></td>\n",
              "    </tr>\n",
              "    <tr>\n",
              "      <th>4</th>\n",
              "      <td>1251623010940919809</td>\n",
              "      <td>Amazon</td>\n",
              "      <td>20793816</td>\n",
              "      <td>2020-04-18 21:25:54</td>\n",
              "      <td>@AnxietyInTheSky 🐻 We're bear-y thankful for y...</td>\n",
              "      <td>1</td>\n",
              "      <td>1</td>\n",
              "      <td>@AnxietyInTheSky 🐻 We're bear-y thankful for y...</td>\n",
              "      <td>@AnxietyInTheSky</td>\n",
              "      <td></td>\n",
              "    </tr>\n",
              "    <tr>\n",
              "      <th>...</th>\n",
              "      <td>...</td>\n",
              "      <td>...</td>\n",
              "      <td>...</td>\n",
              "      <td>...</td>\n",
              "      <td>...</td>\n",
              "      <td>...</td>\n",
              "      <td>...</td>\n",
              "      <td>...</td>\n",
              "      <td>...</td>\n",
              "      <td>...</td>\n",
              "    </tr>\n",
              "    <tr>\n",
              "      <th>195</th>\n",
              "      <td>1245130798484926466</td>\n",
              "      <td>Amazon</td>\n",
              "      <td>20793816</td>\n",
              "      <td>2020-03-31 23:28:10</td>\n",
              "      <td>@custommediaco It's great to hear your mother-...</td>\n",
              "      <td>1</td>\n",
              "      <td>6</td>\n",
              "      <td>@custommediaco It's great to hear your mother-...</td>\n",
              "      <td>@custommediaco</td>\n",
              "      <td></td>\n",
              "    </tr>\n",
              "    <tr>\n",
              "      <th>196</th>\n",
              "      <td>1245130522461982734</td>\n",
              "      <td>Amazon</td>\n",
              "      <td>20793816</td>\n",
              "      <td>2020-03-31 23:27:04</td>\n",
              "      <td>@virginiakbeard Seems like the kiddos always l...</td>\n",
              "      <td>0</td>\n",
              "      <td>0</td>\n",
              "      <td>@virginiakbeard Seems like the kiddos always l...</td>\n",
              "      <td>@virginiakbeard</td>\n",
              "      <td></td>\n",
              "    </tr>\n",
              "    <tr>\n",
              "      <th>197</th>\n",
              "      <td>1245067046964146179</td>\n",
              "      <td>Amazon</td>\n",
              "      <td>20793816</td>\n",
              "      <td>2020-03-31 19:14:50</td>\n",
              "      <td>@StacyZapar Looks like Nola will be busy for a...</td>\n",
              "      <td>1</td>\n",
              "      <td>4</td>\n",
              "      <td>@StacyZapar Looks like Nola will be busy for a...</td>\n",
              "      <td>@StacyZapar</td>\n",
              "      <td></td>\n",
              "    </tr>\n",
              "    <tr>\n",
              "      <th>198</th>\n",
              "      <td>1245060377081192448</td>\n",
              "      <td>Amazon</td>\n",
              "      <td>20793816</td>\n",
              "      <td>2020-03-31 18:48:20</td>\n",
              "      <td>@MurnPhoto 🐳 We're so glad we could remind you...</td>\n",
              "      <td>0</td>\n",
              "      <td>1</td>\n",
              "      <td>@MurnPhoto 🐳 We're so glad we could remind you...</td>\n",
              "      <td>@MurnPhoto</td>\n",
              "      <td></td>\n",
              "    </tr>\n",
              "    <tr>\n",
              "      <th>199</th>\n",
              "      <td>1245060004027273219</td>\n",
              "      <td>Amazon</td>\n",
              "      <td>20793816</td>\n",
              "      <td>2020-03-31 18:46:51</td>\n",
              "      <td>@sostrom We'd love to send Izzy a surprise tha...</td>\n",
              "      <td>0</td>\n",
              "      <td>0</td>\n",
              "      <td>@sostrom We'd love to send Izzy a surprise tha...</td>\n",
              "      <td>@sostrom</td>\n",
              "      <td></td>\n",
              "    </tr>\n",
              "  </tbody>\n",
              "</table>\n",
              "<p>200 rows × 10 columns</p>\n",
              "</div>"
            ],
            "text/plain": [
              "                      id  author  ...                  RTA KeyWords\n",
              "0    1252220256422187009  Amazon  ...                  NaN         \n",
              "1    1251675014736293888  Amazon  ...   @PolishedTalons            \n",
              "2    1251640541072236544  Amazon  ...        @fishsalsa            \n",
              "3    1251623415376732165  Amazon  ...       @RobGrasso2            \n",
              "4    1251623010940919809  Amazon  ...  @AnxietyInTheSky            \n",
              "..                   ...     ...  ...                  ...      ...\n",
              "195  1245130798484926466  Amazon  ...    @custommediaco            \n",
              "196  1245130522461982734  Amazon  ...   @virginiakbeard            \n",
              "197  1245067046964146179  Amazon  ...       @StacyZapar            \n",
              "198  1245060377081192448  Amazon  ...        @MurnPhoto            \n",
              "199  1245060004027273219  Amazon  ...          @sostrom            \n",
              "\n",
              "[200 rows x 10 columns]"
            ]
          },
          "metadata": {
            "tags": []
          },
          "execution_count": 6
        }
      ]
    },
    {
      "cell_type": "code",
      "metadata": {
        "id": "b0vt_k2wSydI",
        "colab_type": "code",
        "outputId": "b165057d-2057-4f4f-ba1e-a0fe41ef9b0b",
        "colab": {
          "base_uri": "https://localhost:8080/",
          "height": 914
        }
      },
      "source": [
        "# Retrieve all #Hashtags\n",
        "\n",
        "matches = df_tweets_pub['tweets_orig'].str.extractall(r'(#[\\w]*)').unstack()\n",
        "\n",
        "#Combi\n",
        "# df_tweets_pub['Hashtags'] = [','.join(filter(None,li)) for li in matches.values]\n",
        "\n",
        "df_tweets_pub['Hashtags'] = ''\n",
        "for _,col in matches.fillna('').iteritems():\n",
        "    df_tweets_pub['Hashtags'] += col + ' '\n",
        "df_tweets_pub['Hashtags'] = df_tweets_pub['Hashtags'].str.rstrip(',')\n",
        "\n",
        "# Show Result\n",
        "df_tweets_pub['Hashtags']\n",
        "\n",
        "# Show Result\n",
        "df_tweets_pub[df_tweets_pub['Hashtags'].notnull()]\n"
      ],
      "execution_count": 0,
      "outputs": [
        {
          "output_type": "execute_result",
          "data": {
            "text/html": [
              "<div>\n",
              "<style scoped>\n",
              "    .dataframe tbody tr th:only-of-type {\n",
              "        vertical-align: middle;\n",
              "    }\n",
              "\n",
              "    .dataframe tbody tr th {\n",
              "        vertical-align: top;\n",
              "    }\n",
              "\n",
              "    .dataframe thead th {\n",
              "        text-align: right;\n",
              "    }\n",
              "</style>\n",
              "<table border=\"1\" class=\"dataframe\">\n",
              "  <thead>\n",
              "    <tr style=\"text-align: right;\">\n",
              "      <th></th>\n",
              "      <th>id</th>\n",
              "      <th>author</th>\n",
              "      <th>author_id</th>\n",
              "      <th>date</th>\n",
              "      <th>tweets</th>\n",
              "      <th>retweets</th>\n",
              "      <th>likes</th>\n",
              "      <th>tweets_orig</th>\n",
              "      <th>RTA</th>\n",
              "      <th>KeyWords</th>\n",
              "      <th>Hashtags</th>\n",
              "    </tr>\n",
              "  </thead>\n",
              "  <tbody>\n",
              "    <tr>\n",
              "      <th>0</th>\n",
              "      <td>1252220256422187009</td>\n",
              "      <td>Amazon</td>\n",
              "      <td>20793816</td>\n",
              "      <td>2020-04-20 12:59:08</td>\n",
              "      <td>Acts of kindness change the world, and we’re g...</td>\n",
              "      <td>13</td>\n",
              "      <td>86</td>\n",
              "      <td>Acts of kindness change the world, and we’re g...</td>\n",
              "      <td>NaN</td>\n",
              "      <td></td>\n",
              "      <td>#rainbowsofhope #thanksfordelivering</td>\n",
              "    </tr>\n",
              "    <tr>\n",
              "      <th>6</th>\n",
              "      <td>1251574344037199872</td>\n",
              "      <td>Amazon</td>\n",
              "      <td>20793816</td>\n",
              "      <td>2020-04-18 18:12:31</td>\n",
              "      <td>RT @PrimeVideo: We're spending today at home t...</td>\n",
              "      <td>363</td>\n",
              "      <td>0</td>\n",
              "      <td>RT @PrimeVideo: We're spending today at home t...</td>\n",
              "      <td>@PrimeVideo</td>\n",
              "      <td></td>\n",
              "      <td>#TogetherAtHom</td>\n",
              "    </tr>\n",
              "    <tr>\n",
              "      <th>30</th>\n",
              "      <td>1250944478614925312</td>\n",
              "      <td>Amazon</td>\n",
              "      <td>20793816</td>\n",
              "      <td>2020-04-17 00:29:39</td>\n",
              "      <td>@JenIsHistory @alexa99 Hi, we love this post! ...</td>\n",
              "      <td>0</td>\n",
              "      <td>0</td>\n",
              "      <td>@JenIsHistory @alexa99 Hi, we love this post! ...</td>\n",
              "      <td>@JenIsHistory @alexa99</td>\n",
              "      <td></td>\n",
              "      <td>#yes</td>\n",
              "    </tr>\n",
              "    <tr>\n",
              "      <th>31</th>\n",
              "      <td>1250943516051517441</td>\n",
              "      <td>Amazon</td>\n",
              "      <td>20793816</td>\n",
              "      <td>2020-04-17 00:25:50</td>\n",
              "      <td>@brianeklein Hi, we love this post! Can we use...</td>\n",
              "      <td>1</td>\n",
              "      <td>0</td>\n",
              "      <td>@brianeklein Hi, we love this post! Can we use...</td>\n",
              "      <td>@brianeklein</td>\n",
              "      <td></td>\n",
              "      <td>#yes</td>\n",
              "    </tr>\n",
              "    <tr>\n",
              "      <th>32</th>\n",
              "      <td>1250943308827783169</td>\n",
              "      <td>Amazon</td>\n",
              "      <td>20793816</td>\n",
              "      <td>2020-04-17 00:25:00</td>\n",
              "      <td>@dtymitz Hi, we love this post! 🙂Can we use it...</td>\n",
              "      <td>0</td>\n",
              "      <td>0</td>\n",
              "      <td>@dtymitz Hi, we love this post! 🙂Can we use it...</td>\n",
              "      <td>@dtymitz</td>\n",
              "      <td></td>\n",
              "      <td>#yes</td>\n",
              "    </tr>\n",
              "    <tr>\n",
              "      <th>33</th>\n",
              "      <td>1250942745830494210</td>\n",
              "      <td>Amazon</td>\n",
              "      <td>20793816</td>\n",
              "      <td>2020-04-17 00:22:46</td>\n",
              "      <td>@SkintDad_Naomi Hi, we love this post! 🙂Can we...</td>\n",
              "      <td>0</td>\n",
              "      <td>0</td>\n",
              "      <td>@SkintDad_Naomi Hi, we love this post! 🙂Can we...</td>\n",
              "      <td>@SkintDad_Naomi</td>\n",
              "      <td></td>\n",
              "      <td>#yes</td>\n",
              "    </tr>\n",
              "    <tr>\n",
              "      <th>34</th>\n",
              "      <td>1250942489353007104</td>\n",
              "      <td>Amazon</td>\n",
              "      <td>20793816</td>\n",
              "      <td>2020-04-17 00:21:45</td>\n",
              "      <td>@TaraHeptinstall Hi, we love this post! 🙂Can w...</td>\n",
              "      <td>0</td>\n",
              "      <td>0</td>\n",
              "      <td>@TaraHeptinstall Hi, we love this post! 🙂Can w...</td>\n",
              "      <td>@TaraHeptinstall</td>\n",
              "      <td></td>\n",
              "      <td>#yes</td>\n",
              "    </tr>\n",
              "    <tr>\n",
              "      <th>35</th>\n",
              "      <td>1250942272046153729</td>\n",
              "      <td>Amazon</td>\n",
              "      <td>20793816</td>\n",
              "      <td>2020-04-17 00:20:53</td>\n",
              "      <td>@shannybugx3 Hi, we love this post! 🙂 Can we u...</td>\n",
              "      <td>0</td>\n",
              "      <td>0</td>\n",
              "      <td>@shannybugx3 Hi, we love this post! 🙂 Can we u...</td>\n",
              "      <td>@shannybugx3</td>\n",
              "      <td></td>\n",
              "      <td>#yes</td>\n",
              "    </tr>\n",
              "    <tr>\n",
              "      <th>36</th>\n",
              "      <td>1250942056370860032</td>\n",
              "      <td>Amazon</td>\n",
              "      <td>20793816</td>\n",
              "      <td>2020-04-17 00:20:02</td>\n",
              "      <td>@norberglindsey @alexa99 Hi, we love this post...</td>\n",
              "      <td>0</td>\n",
              "      <td>1</td>\n",
              "      <td>@norberglindsey @alexa99 Hi, we love this post...</td>\n",
              "      <td>@norberglindsey @alexa99</td>\n",
              "      <td></td>\n",
              "      <td>#yes</td>\n",
              "    </tr>\n",
              "    <tr>\n",
              "      <th>37</th>\n",
              "      <td>1250941645731684352</td>\n",
              "      <td>Amazon</td>\n",
              "      <td>20793816</td>\n",
              "      <td>2020-04-17 00:18:24</td>\n",
              "      <td>@Crystalgrzzl @alexa99 Hi, we love this post! ...</td>\n",
              "      <td>0</td>\n",
              "      <td>1</td>\n",
              "      <td>@Crystalgrzzl @alexa99 Hi, we love this post! ...</td>\n",
              "      <td>@Crystalgrzzl @alexa99</td>\n",
              "      <td></td>\n",
              "      <td>#yes</td>\n",
              "    </tr>\n",
              "    <tr>\n",
              "      <th>38</th>\n",
              "      <td>1250938120821805056</td>\n",
              "      <td>Amazon</td>\n",
              "      <td>20793816</td>\n",
              "      <td>2020-04-17 00:04:23</td>\n",
              "      <td>@BeckyDenzer @alexa99 Hi, we love this post! C...</td>\n",
              "      <td>0</td>\n",
              "      <td>0</td>\n",
              "      <td>@BeckyDenzer @alexa99 Hi, we love this post! C...</td>\n",
              "      <td>@BeckyDenzer @alexa99</td>\n",
              "      <td></td>\n",
              "      <td>#yes</td>\n",
              "    </tr>\n",
              "    <tr>\n",
              "      <th>39</th>\n",
              "      <td>1250937377087873024</td>\n",
              "      <td>Amazon</td>\n",
              "      <td>20793816</td>\n",
              "      <td>2020-04-17 00:01:26</td>\n",
              "      <td>@stephnussauthor Hi, we love this post! Can we...</td>\n",
              "      <td>0</td>\n",
              "      <td>0</td>\n",
              "      <td>@stephnussauthor Hi, we love this post! Can we...</td>\n",
              "      <td>@stephnussauthor</td>\n",
              "      <td></td>\n",
              "      <td>#yes</td>\n",
              "    </tr>\n",
              "    <tr>\n",
              "      <th>174</th>\n",
              "      <td>1245697158730440709</td>\n",
              "      <td>Amazon</td>\n",
              "      <td>20793816</td>\n",
              "      <td>2020-04-02 12:58:41</td>\n",
              "      <td>There’s hope in togetherness, even when we’re ...</td>\n",
              "      <td>36</td>\n",
              "      <td>149</td>\n",
              "      <td>There’s hope in togetherness, even when we’re ...</td>\n",
              "      <td>NaN</td>\n",
              "      <td></td>\n",
              "      <td>#believeinrainbows</td>\n",
              "    </tr>\n",
              "  </tbody>\n",
              "</table>\n",
              "</div>"
            ],
            "text/plain": [
              "                      id  ...                               Hashtags\n",
              "0    1252220256422187009  ...  #rainbowsofhope #thanksfordelivering \n",
              "6    1251574344037199872  ...                       #TogetherAtHom  \n",
              "30   1250944478614925312  ...                                 #yes  \n",
              "31   1250943516051517441  ...                                 #yes  \n",
              "32   1250943308827783169  ...                                 #yes  \n",
              "33   1250942745830494210  ...                                 #yes  \n",
              "34   1250942489353007104  ...                                 #yes  \n",
              "35   1250942272046153729  ...                                 #yes  \n",
              "36   1250942056370860032  ...                                 #yes  \n",
              "37   1250941645731684352  ...                                 #yes  \n",
              "38   1250938120821805056  ...                                 #yes  \n",
              "39   1250937377087873024  ...                                 #yes  \n",
              "174  1245697158730440709  ...                   #believeinrainbows  \n",
              "\n",
              "[13 rows x 11 columns]"
            ]
          },
          "metadata": {
            "tags": []
          },
          "execution_count": 7
        }
      ]
    },
    {
      "cell_type": "markdown",
      "metadata": {
        "id": "5504uVHIsoZh",
        "colab_type": "text"
      },
      "source": [
        "## Retrieve Sentiment Keywords"
      ]
    },
    {
      "cell_type": "code",
      "metadata": {
        "id": "3dpaz7QiYLWI",
        "colab_type": "code",
        "outputId": "7a7d8c2f-bd4d-4ea6-9ce6-1903dd7d303b",
        "colab": {
          "base_uri": "https://localhost:8080/",
          "height": 51
        }
      },
      "source": [
        "# Semantic Dictionary from (Hu and Liu, KDD-2004, University of Illinois at Chicago,簡稱UIC)\n",
        "\n",
        "filename = path + 'opinion-lexicon-English/positive-words.txt'\n",
        "\n",
        "with open(filename, 'r', encoding='utf-8') as f:\n",
        "    Pos_W = f.readlines()\n",
        "    Pos_W = [item.rstrip() for item in Pos_W]\n",
        "\n",
        "filename = path + 'opinion-lexicon-English/negative-words.txt'\n",
        "\n",
        "with open(filename, 'r', encoding='utf-8') as f:\n",
        "    Neg_W = f.readlines()\n",
        "    Neg_W = [item.rstrip() for item in Neg_W]\n",
        "\n",
        "print('Positive Words = ' ,len(Pos_W))\n",
        "print('Negative Words = ' ,len(Neg_W))"
      ],
      "execution_count": 0,
      "outputs": [
        {
          "output_type": "stream",
          "text": [
            "Positive Words =  2005\n",
            "Negative Words =  4783\n"
          ],
          "name": "stdout"
        }
      ]
    },
    {
      "cell_type": "code",
      "metadata": {
        "id": "0yAsmtu6dDvZ",
        "colab_type": "code",
        "outputId": "8055dbaf-9522-4138-bdc1-1a79e37e642c",
        "colab": {
          "base_uri": "https://localhost:8080/",
          "height": 779
        }
      },
      "source": [
        "keywords   = Pos_W\n",
        "\n",
        "pat = '|'.join(format(x) for x in keywords)\n",
        "matches = df_tweets_pub['tweets_orig'].str.extractall('('+ pat + ')').unstack()\n",
        "\n",
        "# Combi\n",
        "df_tweets_pub['Pos_W'] = ''\n",
        "for _,col in matches.fillna('').iteritems():\n",
        "    df_tweets_pub['Pos_W'] += col + ' '\n",
        "df_tweets_pub['Pos_W'] = df_tweets_pub['Pos_W'].str.rstrip(',')\n",
        "\n",
        "# Count Words\n",
        "df_tweets_pub['Pos_W_C'] = df_tweets_pub['Pos_W'].str.split().str.len()\n",
        "df_tweets_pub['Pos_W_C'].fillna(0, inplace=True)\n",
        "\n",
        "# Show Result\n",
        "df_tweets_pub[df_tweets_pub['Pos_W'].notnull()]"
      ],
      "execution_count": 0,
      "outputs": [
        {
          "output_type": "execute_result",
          "data": {
            "text/html": [
              "<div>\n",
              "<style scoped>\n",
              "    .dataframe tbody tr th:only-of-type {\n",
              "        vertical-align: middle;\n",
              "    }\n",
              "\n",
              "    .dataframe tbody tr th {\n",
              "        vertical-align: top;\n",
              "    }\n",
              "\n",
              "    .dataframe thead th {\n",
              "        text-align: right;\n",
              "    }\n",
              "</style>\n",
              "<table border=\"1\" class=\"dataframe\">\n",
              "  <thead>\n",
              "    <tr style=\"text-align: right;\">\n",
              "      <th></th>\n",
              "      <th>id</th>\n",
              "      <th>author</th>\n",
              "      <th>author_id</th>\n",
              "      <th>date</th>\n",
              "      <th>tweets</th>\n",
              "      <th>retweets</th>\n",
              "      <th>likes</th>\n",
              "      <th>tweets_orig</th>\n",
              "      <th>RTA</th>\n",
              "      <th>KeyWords</th>\n",
              "      <th>Hashtags</th>\n",
              "      <th>Pos_W</th>\n",
              "      <th>Pos_W_C</th>\n",
              "    </tr>\n",
              "  </thead>\n",
              "  <tbody>\n",
              "    <tr>\n",
              "      <th>0</th>\n",
              "      <td>1252220256422187009</td>\n",
              "      <td>Amazon</td>\n",
              "      <td>20793816</td>\n",
              "      <td>2020-04-20 12:59:08</td>\n",
              "      <td>Acts of kindness change the world, and we’re g...</td>\n",
              "      <td>13</td>\n",
              "      <td>86</td>\n",
              "      <td>Acts of kindness change the world, and we’re g...</td>\n",
              "      <td>NaN</td>\n",
              "      <td></td>\n",
              "      <td>#rainbowsofhope #thanksfordelivering</td>\n",
              "      <td>kindness grateful thank</td>\n",
              "      <td>3.0</td>\n",
              "    </tr>\n",
              "    <tr>\n",
              "      <th>1</th>\n",
              "      <td>1251675014736293888</td>\n",
              "      <td>Amazon</td>\n",
              "      <td>20793816</td>\n",
              "      <td>2020-04-19 00:52:33</td>\n",
              "      <td>@PolishedTalons Your cardboard flower garden l...</td>\n",
              "      <td>0</td>\n",
              "      <td>1</td>\n",
              "      <td>@PolishedTalons Your cardboard flower garden l...</td>\n",
              "      <td>@PolishedTalons</td>\n",
              "      <td></td>\n",
              "      <td>NaN</td>\n",
              "      <td>amazing</td>\n",
              "      <td>1.0</td>\n",
              "    </tr>\n",
              "    <tr>\n",
              "      <th>2</th>\n",
              "      <td>1251640541072236544</td>\n",
              "      <td>Amazon</td>\n",
              "      <td>20793816</td>\n",
              "      <td>2020-04-18 22:35:34</td>\n",
              "      <td>@fishsalsa We're happy you're enjoying it! 🌻🌷</td>\n",
              "      <td>1</td>\n",
              "      <td>1</td>\n",
              "      <td>@fishsalsa We're happy you're enjoying it! 🌻🌷</td>\n",
              "      <td>@fishsalsa</td>\n",
              "      <td></td>\n",
              "      <td>NaN</td>\n",
              "      <td>happy enjoy</td>\n",
              "      <td>2.0</td>\n",
              "    </tr>\n",
              "    <tr>\n",
              "      <th>4</th>\n",
              "      <td>1251623010940919809</td>\n",
              "      <td>Amazon</td>\n",
              "      <td>20793816</td>\n",
              "      <td>2020-04-18 21:25:54</td>\n",
              "      <td>@AnxietyInTheSky 🐻 We're bear-y thankful for y...</td>\n",
              "      <td>1</td>\n",
              "      <td>1</td>\n",
              "      <td>@AnxietyInTheSky 🐻 We're bear-y thankful for y...</td>\n",
              "      <td>@AnxietyInTheSky</td>\n",
              "      <td></td>\n",
              "      <td>NaN</td>\n",
              "      <td>thank</td>\n",
              "      <td>1.0</td>\n",
              "    </tr>\n",
              "    <tr>\n",
              "      <th>5</th>\n",
              "      <td>1251597422880587776</td>\n",
              "      <td>Amazon</td>\n",
              "      <td>20793816</td>\n",
              "      <td>2020-04-18 19:44:13</td>\n",
              "      <td>@Milenamillo1 It's great to hear we can help b...</td>\n",
              "      <td>2</td>\n",
              "      <td>1</td>\n",
              "      <td>@Milenamillo1 It's great to hear we can help b...</td>\n",
              "      <td>@Milenamillo1</td>\n",
              "      <td></td>\n",
              "      <td>NaN</td>\n",
              "      <td>great bright enjoy</td>\n",
              "      <td>3.0</td>\n",
              "    </tr>\n",
              "    <tr>\n",
              "      <th>...</th>\n",
              "      <td>...</td>\n",
              "      <td>...</td>\n",
              "      <td>...</td>\n",
              "      <td>...</td>\n",
              "      <td>...</td>\n",
              "      <td>...</td>\n",
              "      <td>...</td>\n",
              "      <td>...</td>\n",
              "      <td>...</td>\n",
              "      <td>...</td>\n",
              "      <td>...</td>\n",
              "      <td>...</td>\n",
              "      <td>...</td>\n",
              "    </tr>\n",
              "    <tr>\n",
              "      <th>195</th>\n",
              "      <td>1245130798484926466</td>\n",
              "      <td>Amazon</td>\n",
              "      <td>20793816</td>\n",
              "      <td>2020-03-31 23:28:10</td>\n",
              "      <td>@custommediaco It's great to hear your mother-...</td>\n",
              "      <td>1</td>\n",
              "      <td>6</td>\n",
              "      <td>@custommediaco It's great to hear your mother-...</td>\n",
              "      <td>@custommediaco</td>\n",
              "      <td></td>\n",
              "      <td>NaN</td>\n",
              "      <td>great enjoy</td>\n",
              "      <td>2.0</td>\n",
              "    </tr>\n",
              "    <tr>\n",
              "      <th>196</th>\n",
              "      <td>1245130522461982734</td>\n",
              "      <td>Amazon</td>\n",
              "      <td>20793816</td>\n",
              "      <td>2020-03-31 23:27:04</td>\n",
              "      <td>@virginiakbeard Seems like the kiddos always l...</td>\n",
              "      <td>0</td>\n",
              "      <td>0</td>\n",
              "      <td>@virginiakbeard Seems like the kiddos always l...</td>\n",
              "      <td>@virginiakbeard</td>\n",
              "      <td></td>\n",
              "      <td>NaN</td>\n",
              "      <td>like like better like</td>\n",
              "      <td>4.0</td>\n",
              "    </tr>\n",
              "    <tr>\n",
              "      <th>197</th>\n",
              "      <td>1245067046964146179</td>\n",
              "      <td>Amazon</td>\n",
              "      <td>20793816</td>\n",
              "      <td>2020-03-31 19:14:50</td>\n",
              "      <td>@StacyZapar Looks like Nola will be busy for a...</td>\n",
              "      <td>1</td>\n",
              "      <td>4</td>\n",
              "      <td>@StacyZapar Looks like Nola will be busy for a...</td>\n",
              "      <td>@StacyZapar</td>\n",
              "      <td></td>\n",
              "      <td>NaN</td>\n",
              "      <td>like</td>\n",
              "      <td>1.0</td>\n",
              "    </tr>\n",
              "    <tr>\n",
              "      <th>198</th>\n",
              "      <td>1245060377081192448</td>\n",
              "      <td>Amazon</td>\n",
              "      <td>20793816</td>\n",
              "      <td>2020-03-31 18:48:20</td>\n",
              "      <td>@MurnPhoto 🐳 We're so glad we could remind you...</td>\n",
              "      <td>0</td>\n",
              "      <td>1</td>\n",
              "      <td>@MurnPhoto 🐳 We're so glad we could remind you...</td>\n",
              "      <td>@MurnPhoto</td>\n",
              "      <td></td>\n",
              "      <td>NaN</td>\n",
              "      <td>hot glad happier</td>\n",
              "      <td>3.0</td>\n",
              "    </tr>\n",
              "    <tr>\n",
              "      <th>199</th>\n",
              "      <td>1245060004027273219</td>\n",
              "      <td>Amazon</td>\n",
              "      <td>20793816</td>\n",
              "      <td>2020-03-31 18:46:51</td>\n",
              "      <td>@sostrom We'd love to send Izzy a surprise tha...</td>\n",
              "      <td>0</td>\n",
              "      <td>0</td>\n",
              "      <td>@sostrom We'd love to send Izzy a surprise tha...</td>\n",
              "      <td>@sostrom</td>\n",
              "      <td></td>\n",
              "      <td>NaN</td>\n",
              "      <td>love</td>\n",
              "      <td>1.0</td>\n",
              "    </tr>\n",
              "  </tbody>\n",
              "</table>\n",
              "<p>161 rows × 13 columns</p>\n",
              "</div>"
            ],
            "text/plain": [
              "                      id  author  ...                       Pos_W Pos_W_C\n",
              "0    1252220256422187009  Amazon  ...  kindness grateful thank        3.0\n",
              "1    1251675014736293888  Amazon  ...                amazing          1.0\n",
              "2    1251640541072236544  Amazon  ...             happy enjoy         2.0\n",
              "4    1251623010940919809  Amazon  ...                  thank          1.0\n",
              "5    1251597422880587776  Amazon  ...       great bright enjoy        3.0\n",
              "..                   ...     ...  ...                         ...     ...\n",
              "195  1245130798484926466  Amazon  ...             great enjoy         2.0\n",
              "196  1245130522461982734  Amazon  ...     like like better like       4.0\n",
              "197  1245067046964146179  Amazon  ...                   like          1.0\n",
              "198  1245060377081192448  Amazon  ...         hot glad happier        3.0\n",
              "199  1245060004027273219  Amazon  ...                   love          1.0\n",
              "\n",
              "[161 rows x 13 columns]"
            ]
          },
          "metadata": {
            "tags": []
          },
          "execution_count": 9
        }
      ]
    },
    {
      "cell_type": "code",
      "metadata": {
        "id": "9d-rJq9ijJHk",
        "colab_type": "code",
        "outputId": "919e83c8-b843-4858-f667-5e2c2d75b073",
        "colab": {
          "base_uri": "https://localhost:8080/",
          "height": 796
        }
      },
      "source": [
        "keywords   = Neg_W\n",
        "\n",
        "pat = '|'.join(format(x) for x in keywords)\n",
        "matches = df_tweets_pub['tweets_orig'].str.extractall('('+ pat + ')').unstack()\n",
        "\n",
        "# Combi\n",
        "df_tweets_pub['Neg_W'] = ''\n",
        "for _,col in matches.fillna('').iteritems():\n",
        "    df_tweets_pub['Neg_W'] += col + ' '\n",
        "df_tweets_pub['Neg_W'] = df_tweets_pub['Neg_W'].str.rstrip(',')\n",
        "\n",
        "# Count Words\n",
        "df_tweets_pub['Neg_W_C'] = df_tweets_pub['Neg_W'].str.split().str.len()\n",
        "df_tweets_pub['Neg_W_C'].fillna(0, inplace=True)\n",
        "\n",
        "# Show Result\n",
        "df_tweets_pub[df_tweets_pub['Neg_W'].notnull()]"
      ],
      "execution_count": 0,
      "outputs": [
        {
          "output_type": "execute_result",
          "data": {
            "text/html": [
              "<div>\n",
              "<style scoped>\n",
              "    .dataframe tbody tr th:only-of-type {\n",
              "        vertical-align: middle;\n",
              "    }\n",
              "\n",
              "    .dataframe tbody tr th {\n",
              "        vertical-align: top;\n",
              "    }\n",
              "\n",
              "    .dataframe thead th {\n",
              "        text-align: right;\n",
              "    }\n",
              "</style>\n",
              "<table border=\"1\" class=\"dataframe\">\n",
              "  <thead>\n",
              "    <tr style=\"text-align: right;\">\n",
              "      <th></th>\n",
              "      <th>id</th>\n",
              "      <th>author</th>\n",
              "      <th>author_id</th>\n",
              "      <th>date</th>\n",
              "      <th>tweets</th>\n",
              "      <th>retweets</th>\n",
              "      <th>likes</th>\n",
              "      <th>tweets_orig</th>\n",
              "      <th>RTA</th>\n",
              "      <th>KeyWords</th>\n",
              "      <th>Hashtags</th>\n",
              "      <th>Pos_W</th>\n",
              "      <th>Pos_W_C</th>\n",
              "      <th>Neg_W</th>\n",
              "      <th>Neg_W_C</th>\n",
              "    </tr>\n",
              "  </thead>\n",
              "  <tbody>\n",
              "    <tr>\n",
              "      <th>0</th>\n",
              "      <td>1252220256422187009</td>\n",
              "      <td>Amazon</td>\n",
              "      <td>20793816</td>\n",
              "      <td>2020-04-20 12:59:08</td>\n",
              "      <td>Acts of kindness change the world, and we’re g...</td>\n",
              "      <td>13</td>\n",
              "      <td>86</td>\n",
              "      <td>Acts of kindness change the world, and we’re g...</td>\n",
              "      <td>NaN</td>\n",
              "      <td></td>\n",
              "      <td>#rainbowsofhope #thanksfordelivering</td>\n",
              "      <td>kindness grateful thank</td>\n",
              "      <td>3.0</td>\n",
              "      <td>hang grate</td>\n",
              "      <td>2.0</td>\n",
              "    </tr>\n",
              "    <tr>\n",
              "      <th>3</th>\n",
              "      <td>1251623415376732165</td>\n",
              "      <td>Amazon</td>\n",
              "      <td>20793816</td>\n",
              "      <td>2020-04-18 21:27:30</td>\n",
              "      <td>@RobGrasso2 Happy reading! 📚 📖 ❤️</td>\n",
              "      <td>0</td>\n",
              "      <td>1</td>\n",
              "      <td>@RobGrasso2 Happy reading! 📚 📖 ❤️</td>\n",
              "      <td>@RobGrasso2</td>\n",
              "      <td></td>\n",
              "      <td>NaN</td>\n",
              "      <td>NaN</td>\n",
              "      <td>0.0</td>\n",
              "      <td>din</td>\n",
              "      <td>1.0</td>\n",
              "    </tr>\n",
              "    <tr>\n",
              "      <th>6</th>\n",
              "      <td>1251574344037199872</td>\n",
              "      <td>Amazon</td>\n",
              "      <td>20793816</td>\n",
              "      <td>2020-04-18 18:12:31</td>\n",
              "      <td>RT @PrimeVideo: We're spending today at home t...</td>\n",
              "      <td>363</td>\n",
              "      <td>0</td>\n",
              "      <td>RT @PrimeVideo: We're spending today at home t...</td>\n",
              "      <td>@PrimeVideo</td>\n",
              "      <td></td>\n",
              "      <td>#TogetherAtHom</td>\n",
              "      <td>celebrate heal work</td>\n",
              "      <td>3.0</td>\n",
              "      <td>din brat</td>\n",
              "      <td>2.0</td>\n",
              "    </tr>\n",
              "    <tr>\n",
              "      <th>11</th>\n",
              "      <td>1251300126439636996</td>\n",
              "      <td>Amazon</td>\n",
              "      <td>20793816</td>\n",
              "      <td>2020-04-18 00:02:52</td>\n",
              "      <td>@Katelyn_yanes What a special delivery! We'd l...</td>\n",
              "      <td>2</td>\n",
              "      <td>2</td>\n",
              "      <td>@Katelyn_yanes What a special delivery! We'd l...</td>\n",
              "      <td>@Katelyn_yanes</td>\n",
              "      <td></td>\n",
              "      <td>NaN</td>\n",
              "      <td>love ease</td>\n",
              "      <td>2.0</td>\n",
              "      <td>plea</td>\n",
              "      <td>1.0</td>\n",
              "    </tr>\n",
              "    <tr>\n",
              "      <th>12</th>\n",
              "      <td>1251269338511945732</td>\n",
              "      <td>Amazon</td>\n",
              "      <td>20793816</td>\n",
              "      <td>2020-04-17 22:00:32</td>\n",
              "      <td>@StacySstacy6570 This daffodil made us smile! ...</td>\n",
              "      <td>0</td>\n",
              "      <td>0</td>\n",
              "      <td>@StacySstacy6570 This daffodil made us smile! ...</td>\n",
              "      <td>@StacySstacy6570</td>\n",
              "      <td></td>\n",
              "      <td>NaN</td>\n",
              "      <td>smile</td>\n",
              "      <td>1.0</td>\n",
              "      <td>mad</td>\n",
              "      <td>1.0</td>\n",
              "    </tr>\n",
              "    <tr>\n",
              "      <th>...</th>\n",
              "      <td>...</td>\n",
              "      <td>...</td>\n",
              "      <td>...</td>\n",
              "      <td>...</td>\n",
              "      <td>...</td>\n",
              "      <td>...</td>\n",
              "      <td>...</td>\n",
              "      <td>...</td>\n",
              "      <td>...</td>\n",
              "      <td>...</td>\n",
              "      <td>...</td>\n",
              "      <td>...</td>\n",
              "      <td>...</td>\n",
              "      <td>...</td>\n",
              "      <td>...</td>\n",
              "    </tr>\n",
              "    <tr>\n",
              "      <th>187</th>\n",
              "      <td>1245379852712189952</td>\n",
              "      <td>Amazon</td>\n",
              "      <td>20793816</td>\n",
              "      <td>2020-04-01 15:57:49</td>\n",
              "      <td>@missdub06 We'd love to send some extra suppli...</td>\n",
              "      <td>0</td>\n",
              "      <td>0</td>\n",
              "      <td>@missdub06 We'd love to send some extra suppli...</td>\n",
              "      <td>@missdub06</td>\n",
              "      <td></td>\n",
              "      <td>NaN</td>\n",
              "      <td>love ease</td>\n",
              "      <td>2.0</td>\n",
              "      <td>miss lie plea ail sin</td>\n",
              "      <td>5.0</td>\n",
              "    </tr>\n",
              "    <tr>\n",
              "      <th>190</th>\n",
              "      <td>1245364088340992000</td>\n",
              "      <td>Amazon</td>\n",
              "      <td>20793816</td>\n",
              "      <td>2020-04-01 14:55:11</td>\n",
              "      <td>@SheyBerry We're so happy we can be here for y...</td>\n",
              "      <td>0</td>\n",
              "      <td>0</td>\n",
              "      <td>@SheyBerry We're so happy we can be here for y...</td>\n",
              "      <td>@SheyBerry</td>\n",
              "      <td></td>\n",
              "      <td>NaN</td>\n",
              "      <td>happy</td>\n",
              "      <td>1.0</td>\n",
              "      <td>err err</td>\n",
              "      <td>2.0</td>\n",
              "    </tr>\n",
              "    <tr>\n",
              "      <th>192</th>\n",
              "      <td>1245136521004539914</td>\n",
              "      <td>Amazon</td>\n",
              "      <td>20793816</td>\n",
              "      <td>2020-03-31 23:50:54</td>\n",
              "      <td>@ajcvbteacher ❤️ 📚</td>\n",
              "      <td>0</td>\n",
              "      <td>1</td>\n",
              "      <td>@ajcvbteacher ❤️ 📚</td>\n",
              "      <td>@ajcvbteacher</td>\n",
              "      <td></td>\n",
              "      <td>NaN</td>\n",
              "      <td>NaN</td>\n",
              "      <td>0.0</td>\n",
              "      <td>ache</td>\n",
              "      <td>1.0</td>\n",
              "    </tr>\n",
              "    <tr>\n",
              "      <th>193</th>\n",
              "      <td>1245136495717072898</td>\n",
              "      <td>Amazon</td>\n",
              "      <td>20793816</td>\n",
              "      <td>2020-03-31 23:50:48</td>\n",
              "      <td>@missdub06 It's awesome to hear we can help ma...</td>\n",
              "      <td>0</td>\n",
              "      <td>0</td>\n",
              "      <td>@missdub06 It's awesome to hear we can help ma...</td>\n",
              "      <td>@missdub06</td>\n",
              "      <td></td>\n",
              "      <td>NaN</td>\n",
              "      <td>awe easier prize</td>\n",
              "      <td>3.0</td>\n",
              "      <td>miss brat</td>\n",
              "      <td>2.0</td>\n",
              "    </tr>\n",
              "    <tr>\n",
              "      <th>199</th>\n",
              "      <td>1245060004027273219</td>\n",
              "      <td>Amazon</td>\n",
              "      <td>20793816</td>\n",
              "      <td>2020-03-31 18:46:51</td>\n",
              "      <td>@sostrom We'd love to send Izzy a surprise tha...</td>\n",
              "      <td>0</td>\n",
              "      <td>0</td>\n",
              "      <td>@sostrom We'd love to send Izzy a surprise tha...</td>\n",
              "      <td>@sostrom</td>\n",
              "      <td></td>\n",
              "      <td>NaN</td>\n",
              "      <td>love</td>\n",
              "      <td>1.0</td>\n",
              "      <td>sin ax</td>\n",
              "      <td>2.0</td>\n",
              "    </tr>\n",
              "  </tbody>\n",
              "</table>\n",
              "<p>75 rows × 15 columns</p>\n",
              "</div>"
            ],
            "text/plain": [
              "                      id  author  ...                   Neg_W Neg_W_C\n",
              "0    1252220256422187009  Amazon  ...          hang grate         2.0\n",
              "3    1251623415376732165  Amazon  ...                din          1.0\n",
              "6    1251574344037199872  Amazon  ...            din brat         2.0\n",
              "11   1251300126439636996  Amazon  ...               plea          1.0\n",
              "12   1251269338511945732  Amazon  ...                mad          1.0\n",
              "..                   ...     ...  ...                     ...     ...\n",
              "187  1245379852712189952  Amazon  ...  miss lie plea ail sin      5.0\n",
              "190  1245364088340992000  Amazon  ...             err err         2.0\n",
              "192  1245136521004539914  Amazon  ...               ache          1.0\n",
              "193  1245136495717072898  Amazon  ...           miss brat         2.0\n",
              "199  1245060004027273219  Amazon  ...              sin ax         2.0\n",
              "\n",
              "[75 rows x 15 columns]"
            ]
          },
          "metadata": {
            "tags": []
          },
          "execution_count": 10
        }
      ]
    },
    {
      "cell_type": "markdown",
      "metadata": {
        "id": "y_SCTYg5X_xH",
        "colab_type": "text"
      },
      "source": [
        "## Data Cleansing"
      ]
    },
    {
      "cell_type": "code",
      "metadata": {
        "id": "5FZrip_39TK7",
        "colab_type": "code",
        "colab": {}
      },
      "source": [
        "import re\n",
        "for i in range(len(df_tweets_pub)):\n",
        "    txt = df_tweets_pub.loc[i][\"tweets\"]\n",
        "    txt = re.sub(r'@[A-Z0-9a-z_:]+','',txt)         # replace username-tags\n",
        "    txt = re.sub(r'(#[\\w]*)', \" \",txt)              # replace hashtags\n",
        "    txt = re.sub(r'^[RT]+','',txt)                  # replace RT-tags\n",
        "    txt = re.sub('https?://[A-Za-z0-9./]+','',txt)  # replace URLs\n",
        "\n",
        "    txt = re.sub(r'\\s+', \" \",txt)                   # replace multiple spaces\n",
        "    txt = re.sub(r\"\\s+[a-zA-Z]\\s+\", \" \",txt)        # replace Single character\n",
        "\n",
        "#   txt = re.sub(\"[^a-zA-Z]\", \" \",txt)              # Only remain English works. Remove punctuations and numbers\n",
        "    df_tweets_pub.at[i,\"tweets\"]=txt"
      ],
      "execution_count": 0,
      "outputs": []
    },
    {
      "cell_type": "markdown",
      "metadata": {
        "id": "AjLyDCQUclFS",
        "colab_type": "text"
      },
      "source": [
        "# Sentiment Labeling"
      ]
    },
    {
      "cell_type": "markdown",
      "metadata": {
        "id": "pBUOGM2UJ8cw",
        "colab_type": "text"
      },
      "source": [
        "## Sentiment Labeling by SentiWordNet (SWN)"
      ]
    },
    {
      "cell_type": "code",
      "metadata": {
        "id": "-B1jiUfbDMy9",
        "colab_type": "code",
        "outputId": "d4bfa2f7-93bb-45e7-b516-d2b2be98de80",
        "colab": {
          "base_uri": "https://localhost:8080/",
          "height": 238
        }
      },
      "source": [
        "\n",
        "import nltk\n",
        "from nltk import pos_tag, map_tag\n",
        "nltk.download(['punkt','averaged_perceptron_tagger','universal_tagset','sentiwordnet','wordnet','stopwords'])\n",
        "\n",
        "from nltk.corpus import sentiwordnet as swn\n",
        "\n",
        "from nltk.corpus import stopwords\n",
        "from nltk.stem import WordNetLemmatizer\n",
        "from nltk.stem import PorterStemmer\n",
        "\n",
        "pstem = PorterStemmer()\n",
        "lem = WordNetLemmatizer()\n",
        "stop_words = stopwords.words('english')\n",
        "\n",
        "for i in range(len(df_tweets_pub.index)):\n",
        "        text = df_tweets_pub.loc[i]['tweets']\n",
        "        tokens = nltk.word_tokenize(text)\n",
        "        tagged_sent = pos_tag(tokens)\n",
        "        store_it = [(word, map_tag('en-ptb', 'universal', tag)) for word, tag in tagged_sent]\n"
      ],
      "execution_count": 0,
      "outputs": [
        {
          "output_type": "stream",
          "text": [
            "[nltk_data] Downloading package punkt to /root/nltk_data...\n",
            "[nltk_data]   Unzipping tokenizers/punkt.zip.\n",
            "[nltk_data] Downloading package averaged_perceptron_tagger to\n",
            "[nltk_data]     /root/nltk_data...\n",
            "[nltk_data]   Unzipping taggers/averaged_perceptron_tagger.zip.\n",
            "[nltk_data] Downloading package universal_tagset to /root/nltk_data...\n",
            "[nltk_data]   Unzipping taggers/universal_tagset.zip.\n",
            "[nltk_data] Downloading package sentiwordnet to /root/nltk_data...\n",
            "[nltk_data]   Unzipping corpora/sentiwordnet.zip.\n",
            "[nltk_data] Downloading package wordnet to /root/nltk_data...\n",
            "[nltk_data]   Unzipping corpora/wordnet.zip.\n",
            "[nltk_data] Downloading package stopwords to /root/nltk_data...\n",
            "[nltk_data]   Unzipping corpora/stopwords.zip.\n"
          ],
          "name": "stdout"
        }
      ]
    },
    {
      "cell_type": "code",
      "metadata": {
        "id": "3tt1FgFrGW0N",
        "colab_type": "code",
        "outputId": "ee558793-29f0-47b8-def7-68229f236cb7",
        "colab": {
          "base_uri": "https://localhost:8080/",
          "height": 1000
        }
      },
      "source": [
        "# POS-TAGGING AND SENTIMENT SCORE\n",
        "\n",
        "def pos_senti(df_copy):\n",
        "    li_swn=[]\n",
        "    li_swn_pos=[]\n",
        "    li_swn_neg=[]\n",
        "    missing_words=[]\n",
        "    for i in range(len(df_copy.index)):\n",
        "        text = df_copy.loc[i]['tweets']\n",
        "        tokens = nltk.word_tokenize(text)\n",
        "        tagged_sent = pos_tag(tokens)\n",
        "        store_it = [(word, map_tag('en-ptb', 'universal', tag)) for word, tag in tagged_sent]\n",
        "        #print(\"Tagged Parts of Speech:\",store_it)\n",
        "\n",
        "        pos_total=0\n",
        "        neg_total=0\n",
        "        for word,tag in store_it:\n",
        "            if(tag=='NOUN'):\n",
        "                tag='n'\n",
        "            elif(tag=='VERB'):\n",
        "                tag='v'\n",
        "            elif(tag=='ADJ'):\n",
        "                tag='a'\n",
        "            elif(tag=='ADV'):\n",
        "                tag = 'r'\n",
        "            else:\n",
        "                tag='nothing'\n",
        "\n",
        "            if(tag!='nothing'):\n",
        "                concat = word+'.'+tag+'.01'\n",
        "                try:\n",
        "                    this_word_pos=swn.senti_synset(concat).pos_score()\n",
        "                    this_word_neg=swn.senti_synset(concat).neg_score()\n",
        "                    #print(word,tag,':',this_word_pos,this_word_neg)\n",
        "                except Exception as e:\n",
        "                    wor = lem.lemmatize(word)\n",
        "                    concat = wor+'.'+tag+'.01'\n",
        "                    # Checking if there's a possiblity of lemmatized word be accepted into SWN corpus\n",
        "                    try:\n",
        "                        this_word_pos=swn.senti_synset(concat).pos_score()\n",
        "                        this_word_neg=swn.senti_synset(concat).neg_score()\n",
        "                    except Exception as e:\n",
        "                        wor = pstem.stem(word)\n",
        "                        concat = wor+'.'+tag+'.01'\n",
        "                        # Checking if there's a possiblity of lemmatized word be accepted\n",
        "                        try:\n",
        "                            this_word_pos=swn.senti_synset(concat).pos_score()\n",
        "                            this_word_neg=swn.senti_synset(concat).neg_score()\n",
        "                        except:\n",
        "                            missing_words.append(word)\n",
        "                            continue\n",
        "                pos_total+=this_word_pos\n",
        "                neg_total+=this_word_neg\n",
        "        li_swn_pos.append(pos_total)\n",
        "        li_swn_neg.append(neg_total)\n",
        "\n",
        "        if(pos_total!=0 or neg_total!=0):\n",
        "            if(pos_total>neg_total):\n",
        "                li_swn.append(1)\n",
        "            else:\n",
        "                li_swn.append(-1)\n",
        "        else:\n",
        "            li_swn.append(0)\n",
        "    df_copy.insert(5,\"pos_score\",li_swn_pos,True)\n",
        "    df_copy.insert(6,\"neg_score\",li_swn_neg,True)\n",
        "    df_copy.insert(7,\"sent_SWN\",li_swn,True)\n",
        "    return df_copy\n",
        "    # end-of pos-tagging&sentiment\n",
        "\n",
        "pos_senti(df_tweets_pub)"
      ],
      "execution_count": 0,
      "outputs": [
        {
          "output_type": "execute_result",
          "data": {
            "text/html": [
              "<div>\n",
              "<style scoped>\n",
              "    .dataframe tbody tr th:only-of-type {\n",
              "        vertical-align: middle;\n",
              "    }\n",
              "\n",
              "    .dataframe tbody tr th {\n",
              "        vertical-align: top;\n",
              "    }\n",
              "\n",
              "    .dataframe thead th {\n",
              "        text-align: right;\n",
              "    }\n",
              "</style>\n",
              "<table border=\"1\" class=\"dataframe\">\n",
              "  <thead>\n",
              "    <tr style=\"text-align: right;\">\n",
              "      <th></th>\n",
              "      <th>id</th>\n",
              "      <th>author</th>\n",
              "      <th>author_id</th>\n",
              "      <th>date</th>\n",
              "      <th>tweets</th>\n",
              "      <th>pos_score</th>\n",
              "      <th>neg_score</th>\n",
              "      <th>sent_SWN</th>\n",
              "      <th>retweets</th>\n",
              "      <th>likes</th>\n",
              "      <th>tweets_orig</th>\n",
              "      <th>RTA</th>\n",
              "      <th>KeyWords</th>\n",
              "      <th>Hashtags</th>\n",
              "      <th>Pos_W</th>\n",
              "      <th>Pos_W_C</th>\n",
              "      <th>Neg_W</th>\n",
              "      <th>Neg_W_C</th>\n",
              "    </tr>\n",
              "  </thead>\n",
              "  <tbody>\n",
              "    <tr>\n",
              "      <th>0</th>\n",
              "      <td>1252220256422187009</td>\n",
              "      <td>Amazon</td>\n",
              "      <td>20793816</td>\n",
              "      <td>2020-04-20 12:59:08</td>\n",
              "      <td>Acts of kindness change the world, and we’re g...</td>\n",
              "      <td>0.625</td>\n",
              "      <td>0.375</td>\n",
              "      <td>1</td>\n",
              "      <td>13</td>\n",
              "      <td>86</td>\n",
              "      <td>Acts of kindness change the world, and we’re g...</td>\n",
              "      <td>NaN</td>\n",
              "      <td></td>\n",
              "      <td>#rainbowsofhope #thanksfordelivering</td>\n",
              "      <td>kindness grateful thank</td>\n",
              "      <td>3.0</td>\n",
              "      <td>hang grate</td>\n",
              "      <td>2.0</td>\n",
              "    </tr>\n",
              "    <tr>\n",
              "      <th>1</th>\n",
              "      <td>1251675014736293888</td>\n",
              "      <td>Amazon</td>\n",
              "      <td>20793816</td>\n",
              "      <td>2020-04-19 00:52:33</td>\n",
              "      <td>Your cardboard flower garden looks amazing! 🌺🌹🌼</td>\n",
              "      <td>0.500</td>\n",
              "      <td>0.250</td>\n",
              "      <td>1</td>\n",
              "      <td>0</td>\n",
              "      <td>1</td>\n",
              "      <td>@PolishedTalons Your cardboard flower garden l...</td>\n",
              "      <td>@PolishedTalons</td>\n",
              "      <td></td>\n",
              "      <td>NaN</td>\n",
              "      <td>amazing</td>\n",
              "      <td>1.0</td>\n",
              "      <td>NaN</td>\n",
              "      <td>0.0</td>\n",
              "    </tr>\n",
              "    <tr>\n",
              "      <th>2</th>\n",
              "      <td>1251640541072236544</td>\n",
              "      <td>Amazon</td>\n",
              "      <td>20793816</td>\n",
              "      <td>2020-04-18 22:35:34</td>\n",
              "      <td>We're happy you're enjoying it! 🌻🌷</td>\n",
              "      <td>1.250</td>\n",
              "      <td>0.000</td>\n",
              "      <td>1</td>\n",
              "      <td>1</td>\n",
              "      <td>1</td>\n",
              "      <td>@fishsalsa We're happy you're enjoying it! 🌻🌷</td>\n",
              "      <td>@fishsalsa</td>\n",
              "      <td></td>\n",
              "      <td>NaN</td>\n",
              "      <td>happy enjoy</td>\n",
              "      <td>2.0</td>\n",
              "      <td>NaN</td>\n",
              "      <td>0.0</td>\n",
              "    </tr>\n",
              "    <tr>\n",
              "      <th>3</th>\n",
              "      <td>1251623415376732165</td>\n",
              "      <td>Amazon</td>\n",
              "      <td>20793816</td>\n",
              "      <td>2020-04-18 21:27:30</td>\n",
              "      <td>Happy reading! 📚 📖 ❤️</td>\n",
              "      <td>0.875</td>\n",
              "      <td>0.000</td>\n",
              "      <td>1</td>\n",
              "      <td>0</td>\n",
              "      <td>1</td>\n",
              "      <td>@RobGrasso2 Happy reading! 📚 📖 ❤️</td>\n",
              "      <td>@RobGrasso2</td>\n",
              "      <td></td>\n",
              "      <td>NaN</td>\n",
              "      <td>NaN</td>\n",
              "      <td>0.0</td>\n",
              "      <td>din</td>\n",
              "      <td>1.0</td>\n",
              "    </tr>\n",
              "    <tr>\n",
              "      <th>4</th>\n",
              "      <td>1251623010940919809</td>\n",
              "      <td>Amazon</td>\n",
              "      <td>20793816</td>\n",
              "      <td>2020-04-18 21:25:54</td>\n",
              "      <td>🐻 We're bear-y thankful for you! 🐻 Thank you ...</td>\n",
              "      <td>0.000</td>\n",
              "      <td>0.000</td>\n",
              "      <td>0</td>\n",
              "      <td>1</td>\n",
              "      <td>1</td>\n",
              "      <td>@AnxietyInTheSky 🐻 We're bear-y thankful for y...</td>\n",
              "      <td>@AnxietyInTheSky</td>\n",
              "      <td></td>\n",
              "      <td>NaN</td>\n",
              "      <td>thank</td>\n",
              "      <td>1.0</td>\n",
              "      <td>NaN</td>\n",
              "      <td>0.0</td>\n",
              "    </tr>\n",
              "    <tr>\n",
              "      <th>...</th>\n",
              "      <td>...</td>\n",
              "      <td>...</td>\n",
              "      <td>...</td>\n",
              "      <td>...</td>\n",
              "      <td>...</td>\n",
              "      <td>...</td>\n",
              "      <td>...</td>\n",
              "      <td>...</td>\n",
              "      <td>...</td>\n",
              "      <td>...</td>\n",
              "      <td>...</td>\n",
              "      <td>...</td>\n",
              "      <td>...</td>\n",
              "      <td>...</td>\n",
              "      <td>...</td>\n",
              "      <td>...</td>\n",
              "      <td>...</td>\n",
              "      <td>...</td>\n",
              "    </tr>\n",
              "    <tr>\n",
              "      <th>195</th>\n",
              "      <td>1245130798484926466</td>\n",
              "      <td>Amazon</td>\n",
              "      <td>20793816</td>\n",
              "      <td>2020-03-31 23:28:10</td>\n",
              "      <td>It's great to hear your mother-in-law is enjo...</td>\n",
              "      <td>0.375</td>\n",
              "      <td>0.000</td>\n",
              "      <td>1</td>\n",
              "      <td>1</td>\n",
              "      <td>6</td>\n",
              "      <td>@custommediaco It's great to hear your mother-...</td>\n",
              "      <td>@custommediaco</td>\n",
              "      <td></td>\n",
              "      <td>NaN</td>\n",
              "      <td>great enjoy</td>\n",
              "      <td>2.0</td>\n",
              "      <td>NaN</td>\n",
              "      <td>0.0</td>\n",
              "    </tr>\n",
              "    <tr>\n",
              "      <th>196</th>\n",
              "      <td>1245130522461982734</td>\n",
              "      <td>Amazon</td>\n",
              "      <td>20793816</td>\n",
              "      <td>2020-03-31 23:27:04</td>\n",
              "      <td>Seems like the kiddos always like the boxes b...</td>\n",
              "      <td>1.000</td>\n",
              "      <td>0.000</td>\n",
              "      <td>1</td>\n",
              "      <td>0</td>\n",
              "      <td>0</td>\n",
              "      <td>@virginiakbeard Seems like the kiddos always l...</td>\n",
              "      <td>@virginiakbeard</td>\n",
              "      <td></td>\n",
              "      <td>NaN</td>\n",
              "      <td>like like better like</td>\n",
              "      <td>4.0</td>\n",
              "      <td>NaN</td>\n",
              "      <td>0.0</td>\n",
              "    </tr>\n",
              "    <tr>\n",
              "      <th>197</th>\n",
              "      <td>1245067046964146179</td>\n",
              "      <td>Amazon</td>\n",
              "      <td>20793816</td>\n",
              "      <td>2020-03-31 19:14:50</td>\n",
              "      <td>Looks like Nola will be busy for while! 🐶 💕</td>\n",
              "      <td>0.625</td>\n",
              "      <td>0.125</td>\n",
              "      <td>1</td>\n",
              "      <td>1</td>\n",
              "      <td>4</td>\n",
              "      <td>@StacyZapar Looks like Nola will be busy for a...</td>\n",
              "      <td>@StacyZapar</td>\n",
              "      <td></td>\n",
              "      <td>NaN</td>\n",
              "      <td>like</td>\n",
              "      <td>1.0</td>\n",
              "      <td>NaN</td>\n",
              "      <td>0.0</td>\n",
              "    </tr>\n",
              "    <tr>\n",
              "      <th>198</th>\n",
              "      <td>1245060377081192448</td>\n",
              "      <td>Amazon</td>\n",
              "      <td>20793816</td>\n",
              "      <td>2020-03-31 18:48:20</td>\n",
              "      <td>🐳 We're so glad we could remind you of happie...</td>\n",
              "      <td>0.625</td>\n",
              "      <td>0.625</td>\n",
              "      <td>-1</td>\n",
              "      <td>0</td>\n",
              "      <td>1</td>\n",
              "      <td>@MurnPhoto 🐳 We're so glad we could remind you...</td>\n",
              "      <td>@MurnPhoto</td>\n",
              "      <td></td>\n",
              "      <td>NaN</td>\n",
              "      <td>hot glad happier</td>\n",
              "      <td>3.0</td>\n",
              "      <td>NaN</td>\n",
              "      <td>0.0</td>\n",
              "    </tr>\n",
              "    <tr>\n",
              "      <th>199</th>\n",
              "      <td>1245060004027273219</td>\n",
              "      <td>Amazon</td>\n",
              "      <td>20793816</td>\n",
              "      <td>2020-03-31 18:46:51</td>\n",
              "      <td>We'd love to send Izzy surprise that she coul...</td>\n",
              "      <td>1.500</td>\n",
              "      <td>0.375</td>\n",
              "      <td>1</td>\n",
              "      <td>0</td>\n",
              "      <td>0</td>\n",
              "      <td>@sostrom We'd love to send Izzy a surprise tha...</td>\n",
              "      <td>@sostrom</td>\n",
              "      <td></td>\n",
              "      <td>NaN</td>\n",
              "      <td>love</td>\n",
              "      <td>1.0</td>\n",
              "      <td>sin ax</td>\n",
              "      <td>2.0</td>\n",
              "    </tr>\n",
              "  </tbody>\n",
              "</table>\n",
              "<p>200 rows × 18 columns</p>\n",
              "</div>"
            ],
            "text/plain": [
              "                      id  author author_id  ... Pos_W_C           Neg_W  Neg_W_C\n",
              "0    1252220256422187009  Amazon  20793816  ...     3.0  hang grate          2.0\n",
              "1    1251675014736293888  Amazon  20793816  ...     1.0             NaN      0.0\n",
              "2    1251640541072236544  Amazon  20793816  ...     2.0             NaN      0.0\n",
              "3    1251623415376732165  Amazon  20793816  ...     0.0        din           1.0\n",
              "4    1251623010940919809  Amazon  20793816  ...     1.0             NaN      0.0\n",
              "..                   ...     ...       ...  ...     ...             ...      ...\n",
              "195  1245130798484926466  Amazon  20793816  ...     2.0             NaN      0.0\n",
              "196  1245130522461982734  Amazon  20793816  ...     4.0             NaN      0.0\n",
              "197  1245067046964146179  Amazon  20793816  ...     1.0             NaN      0.0\n",
              "198  1245060377081192448  Amazon  20793816  ...     3.0             NaN      0.0\n",
              "199  1245060004027273219  Amazon  20793816  ...     1.0      sin ax          2.0\n",
              "\n",
              "[200 rows x 18 columns]"
            ]
          },
          "metadata": {
            "tags": []
          },
          "execution_count": 13
        }
      ]
    },
    {
      "cell_type": "markdown",
      "metadata": {
        "id": "nH6qp25LPNYT",
        "colab_type": "text"
      },
      "source": [
        "## Sentiment Labeling by TextBlob"
      ]
    },
    {
      "cell_type": "code",
      "metadata": {
        "id": "7kB8Ad6MKuWT",
        "colab_type": "code",
        "outputId": "14f20cc1-a2ad-4a6c-dbaf-6acd6306dc1b",
        "colab": {
          "base_uri": "https://localhost:8080/",
          "height": 119
        }
      },
      "source": [
        "#TextBlob SENTIMENT LABELING\n",
        "from textblob import TextBlob\n",
        "count_total=0\n",
        "count_pos=0\n",
        "count_neg=0\n",
        "count_neut=0\n",
        "\n",
        "li_tb = []\n",
        "\n",
        "df_tweets_pub['sent_TextBlob'] = 999\n",
        "\n",
        "for i in range(len(df_tweets_pub.index)):\n",
        "  sent = TextBlob(str(df_tweets_pub.loc[i]['tweets']))\n",
        "\n",
        "  if(sent.sentiment.polarity>0):\n",
        "      sent_TB = 1\n",
        "      count_pos=count_pos+1\n",
        "      count_total=count_total+1\n",
        "      li_tb.append(1)\n",
        "\n",
        "  elif(sent.sentiment.polarity<0):\n",
        "      sent_TB = -1\n",
        "      count_neg=count_neg+1\n",
        "      count_total=count_total+1\n",
        "      li_tb.append(-1)\n",
        "\n",
        "  else:\n",
        "      sent_TB = 0\n",
        "      li_tb.append(0)\n",
        "      count_neut+=1\n",
        "\n",
        "  count_total=count_total+1\n",
        "  df_tweets_pub.loc[i, 'sent_TextBlob'] = sent_TB\n",
        "\n",
        "  #print(df_tweets_pub.loc[i]['tweets'])\n",
        "  #print(sent.sentiment)\n",
        "\n",
        "print(\"Total tweets:\",len(df_tweets_pub.index))\n",
        "print(\"Total tweets with sentiment:\",count_total)\n",
        "print(\"positive tweets:\",count_pos)\n",
        "print(\"negative tweets:\",count_neg)\n",
        "print(\"neutral tweets:\",count_neut)\n",
        "\n",
        "set(df_tweets_pub['sent_TextBlob'])"
      ],
      "execution_count": 0,
      "outputs": [
        {
          "output_type": "stream",
          "text": [
            "Total tweets: 200\n",
            "Total tweets with sentiment: 365\n",
            "positive tweets: 158\n",
            "negative tweets: 7\n",
            "neutral tweets: 35\n"
          ],
          "name": "stdout"
        },
        {
          "output_type": "execute_result",
          "data": {
            "text/plain": [
              "{-1, 0, 1}"
            ]
          },
          "metadata": {
            "tags": []
          },
          "execution_count": 14
        }
      ]
    },
    {
      "cell_type": "markdown",
      "metadata": {
        "id": "Z38WBegglC3x",
        "colab_type": "text"
      },
      "source": [
        "### to_csv"
      ]
    },
    {
      "cell_type": "code",
      "metadata": {
        "id": "eA6h1M0I0iHE",
        "colab_type": "code",
        "colab": {}
      },
      "source": [
        "# df['tweets'] = df['tweets'].str.replace(\",\",\"\")\n",
        "\n",
        "from google.colab import files\n",
        "df_tweets_pub.to_csv ( path + 'df_tweets_amazon.csv', index = False, header=True) \n"
      ],
      "execution_count": 0,
      "outputs": []
    },
    {
      "cell_type": "markdown",
      "metadata": {
        "id": "eQOJ-jBpQb61",
        "colab_type": "text"
      },
      "source": [
        "## Lemmatization"
      ]
    },
    {
      "cell_type": "code",
      "metadata": {
        "id": "AZJZIc59Qf0t",
        "colab_type": "code",
        "colab": {}
      },
      "source": [
        "for i in range(len(df_tweets_pub.index)):\n",
        "     text = df_tweets_pub.loc[i]['tweets']\n",
        "     tokens = nltk.word_tokenize(text)\n",
        "     tokens = [word for word in tokens if word not in stop_words]\n",
        "\n",
        "for j in range(len(tokens)):\n",
        "    tokens[j] = lem.lemmatize(tokens[j])\n",
        "    tokens[j] = pstem.stem(tokens[j])\n",
        "    \n",
        "tokens_sent=' '.join(tokens)\n",
        "\n",
        "df_tweets_pub.at[i,\"tweets\"] = tokens_sent"
      ],
      "execution_count": 0,
      "outputs": []
    },
    {
      "cell_type": "markdown",
      "metadata": {
        "id": "wDnWSj8dRezd",
        "colab_type": "text"
      },
      "source": [
        "## WordCloud"
      ]
    },
    {
      "cell_type": "code",
      "metadata": {
        "id": "u66yNsefRhWY",
        "colab_type": "code",
        "outputId": "2c3970b4-efdb-473d-d8d7-b0a749817b29",
        "colab": {
          "base_uri": "https://localhost:8080/",
          "height": 896
        }
      },
      "source": [
        "dft = df_tweets_pub\n",
        "\n",
        "sentiment_label = 'sent_TextBlob'  #sent_score, sent_TextBlob\n",
        "\n",
        "words_nature =' '.join([text for text in dft['tweets'][dft[sentiment_label] == 0]])\n",
        "words_positive =' '.join([text for text in dft['tweets'][dft[sentiment_label] == 1]])\n",
        "words_negative =' '.join([text for text in dft['tweets'][dft[sentiment_label] == -1]])\n",
        "words_all= ' '.join([text for text in dft['tweets']])\n",
        "\n",
        "from wordcloud import WordCloud, STOPWORDS\n",
        "\n",
        "def wordcloud(tweets,col,words_c):\n",
        "    stopwords = set(STOPWORDS)\n",
        "    wordcloud = WordCloud(background_color=\"black\",stopwords=stopwords,random_state = 2020, max_font_size=110).generate(words_c)\n",
        "    plt.figure( figsize=(10,7))\n",
        "    plt.imshow(wordcloud, interpolation='bilinear')\n",
        "    plt.axis(\"off\")\n",
        "\n",
        "wordcloud(dft,'tweets',words_positive) \n",
        "wordcloud(dft,'tweets',words_negative)\n",
        "wordcloud(dft,'tweets',words_nature) "
      ],
      "execution_count": 0,
      "outputs": [
        {
          "output_type": "display_data",
          "data": {
            "image/png": "[encoded data removed]",
            "text/plain": [
              "<Figure size 720x504 with 1 Axes>"
            ]
          },
          "metadata": {
            "tags": [],
            "needs_background": "light"
          }
        },
        {
          "output_type": "display_data",
          "data": {
            "image/png": "[encoded data removed]",
            "text/plain": [
              "<Figure size 720x504 with 1 Axes>"
            ]
          },
          "metadata": {
            "tags": [],
            "needs_background": "light"
          }
        },
        {
          "output_type": "display_data",
          "data": {
            "image/png": "[encoded data removed]",
            "text/plain": [
              "<Figure size 720x504 with 1 Axes>"
            ]
          },
          "metadata": {
            "tags": [],
            "needs_background": "light"
          }
        }
      ]
    },
    {
      "cell_type": "markdown",
      "metadata": {
        "id": "tLdzq72aV_a2",
        "colab_type": "text"
      },
      "source": [
        "# Machine Learning for NLP"
      ]
    },
    {
      "cell_type": "code",
      "metadata": {
        "id": "v4E89e1OWGl5",
        "colab_type": "code",
        "colab": {}
      },
      "source": [
        "sentiment_label = 'sent_TextBlob'  #sent_SWN, sent_TextBlob\n",
        "\n",
        "from sklearn.linear_model import LogisticRegression\n",
        "from sklearn.model_selection import train_test_split\n",
        "\n",
        "from sklearn import metrics\n",
        "import seaborn as sns"
      ],
      "execution_count": 0,
      "outputs": []
    },
    {
      "cell_type": "markdown",
      "metadata": {
        "id": "ZqeLBLiENVQP",
        "colab_type": "text"
      },
      "source": [
        "## Bag-of-Words Features"
      ]
    },
    {
      "cell_type": "code",
      "metadata": {
        "id": "3oxBNP_kNXVa",
        "colab_type": "code",
        "colab": {}
      },
      "source": [
        "from sklearn.feature_extraction.text import CountVectorizer\n",
        "bow_vectorizer = CountVectorizer(max_df=0.90, min_df=2, max_features=1000, stop_words='english')\n",
        "\n",
        "# bag-of-words feature matrix\n",
        "bow = bow_vectorizer.fit_transform(df_tweets_pub['tweets'])"
      ],
      "execution_count": 0,
      "outputs": []
    },
    {
      "cell_type": "code",
      "metadata": {
        "id": "buXw9lNsUjQy",
        "colab_type": "code",
        "colab": {}
      },
      "source": [
        "\n",
        "train_bow = bow[:160,:]\n",
        "test_bow = bow[160:,:]\n",
        "train_y = df_tweets_pub.loc[:159, sentiment_label]\n",
        "\n",
        "# splitting data into training and validation set\n",
        "xtrain_bow, xvalid_bow, ytrain, yvalid = train_test_split(train_bow, train_y, random_state=42, test_size=0.3)\n",
        "\n",
        "lreg = LogisticRegression()\n",
        "lreg.fit(xtrain_bow, ytrain) # training the model\n",
        "\n",
        "predict_p = lreg.predict_proba(xvalid_bow) # predicting on the validation set\n",
        "predict_c = lreg.predict(xvalid_bow).astype('int')  # 預測標籤結果\n"
      ],
      "execution_count": 0,
      "outputs": []
    },
    {
      "cell_type": "code",
      "metadata": {
        "id": "yjGeAOjoU716",
        "colab_type": "code",
        "outputId": "b54961ec-fa08-4455-a77e-7415acf0344d",
        "colab": {
          "base_uri": "https://localhost:8080/",
          "height": 313
        }
      },
      "source": [
        "## 製作 Confusion Matrix圖表來評估模型\n",
        "\n",
        "confusion_matrix = metrics.confusion_matrix(y_true = yvalid, y_pred = predict_c, labels=[-1,0,1])\n",
        "\n",
        "cm =pd.DataFrame(confusion_matrix , index = ['-1', '0', '1'], columns = [ '-1', '0', '1'])\n",
        "sns.heatmap(cm, annot = True)\n",
        "plt.xlabel('Predicted')\n",
        "plt.ylabel('True')\n",
        "plt.show()\n",
        "\n",
        "Accuracy = confusion_matrix.trace() / confusion_matrix.sum()\n",
        "MissClass = 1 - Accuracy\n",
        "\n",
        "print(\"Accuracy : %0.5f\" % Accuracy)\n",
        "print(\"MissClass: %0.5f\" % MissClass)\n"
      ],
      "execution_count": 0,
      "outputs": [
        {
          "output_type": "display_data",
          "data": {
            "image/png": "[encoded data removed]",
            "text/plain": [
              "<Figure size 432x288 with 2 Axes>"
            ]
          },
          "metadata": {
            "tags": []
          }
        },
        {
          "output_type": "stream",
          "text": [
            "Accuracy : 0.70833\n",
            "MissClass: 0.29167\n"
          ],
          "name": "stdout"
        }
      ]
    },
    {
      "cell_type": "markdown",
      "metadata": {
        "id": "FSJRhmVxUWw1",
        "colab_type": "text"
      },
      "source": [
        "## TF-IDF features"
      ]
    },
    {
      "cell_type": "code",
      "metadata": {
        "id": "SrHu-UkrOJU5",
        "colab_type": "code",
        "colab": {}
      },
      "source": [
        "from sklearn.feature_extraction.text import TfidfVectorizer\n",
        "tfidf_vectorizer = TfidfVectorizer(max_df=0.90, min_df=2, max_features=1000, stop_words='english')\n",
        "\n",
        "# TF-IDF feature matrix\n",
        "tfidf = tfidf_vectorizer.fit_transform(df_tweets_pub['tweets'])"
      ],
      "execution_count": 0,
      "outputs": []
    },
    {
      "cell_type": "code",
      "metadata": {
        "id": "ZMYTMWChO1HP",
        "colab_type": "code",
        "colab": {}
      },
      "source": [
        "\n",
        "train_tfidf = tfidf[:160,:]\n",
        "test_tfidf = tfidf[160:,:]\n",
        "train_y = df_tweets_pub.loc[:159, sentiment_label]\n",
        "\n",
        "# splitting data into training and validation set\n",
        "xtrain_tfidf, xvalid_tfidf, ytrain, yvalid = train_test_split(train_tfidf, train_y, random_state=42, test_size=0.3)\n",
        "\n",
        "lreg = LogisticRegression()\n",
        "lreg.fit(xtrain_tfidf, ytrain) # training the model\n",
        "\n",
        "predict_p = lreg.predict_proba(xvalid_tfidf) # predicting on the validation set\n",
        "predict_c = lreg.predict(xvalid_tfidf).astype('int')  # 預測標籤結果\n"
      ],
      "execution_count": 0,
      "outputs": []
    },
    {
      "cell_type": "code",
      "metadata": {
        "id": "wQ5OBpA1SMxf",
        "colab_type": "code",
        "outputId": "c9f730c9-182c-4c38-ef85-1829a18c6f3c",
        "colab": {
          "base_uri": "https://localhost:8080/",
          "height": 313
        }
      },
      "source": [
        "## 製作 Confusion Matrix圖表來評估模型\n",
        "\n",
        "confusion_matrix = metrics.confusion_matrix(y_true = yvalid, y_pred = predict_c, labels=[-1,0,1])\n",
        "\n",
        "cm =pd.DataFrame(confusion_matrix , index = ['-1', '0', '1'], columns = [ '-1', '0', '1'])\n",
        "sns.heatmap(cm, annot = True)\n",
        "plt.xlabel('Predicted')\n",
        "plt.ylabel('True')\n",
        "plt.show()\n",
        "\n",
        "Accuracy = confusion_matrix.trace() / confusion_matrix.sum()\n",
        "MissClass = 1 - Accuracy\n",
        "\n",
        "print(\"Accuracy : %0.5f\" % Accuracy)\n",
        "print(\"MissClass: %0.5f\" % MissClass)\n"
      ],
      "execution_count": 0,
      "outputs": [
        {
          "output_type": "display_data",
          "data": {
            "image/png": "[encoded data removed]",
            "text/plain": [
              "<Figure size 432x288 with 2 Axes>"
            ]
          },
          "metadata": {
            "tags": []
          }
        },
        {
          "output_type": "stream",
          "text": [
            "Accuracy : 0.70833\n",
            "MissClass: 0.29167\n"
          ],
          "name": "stdout"
        }
      ]
    },
    {
      "cell_type": "markdown",
      "metadata": {
        "id": "8-EPoO51j2ky",
        "colab_type": "text"
      },
      "source": [
        "## XGBoost for TF-IDF Features"
      ]
    },
    {
      "cell_type": "code",
      "metadata": {
        "id": "x5H3kAdtj5k0",
        "colab_type": "code",
        "colab": {}
      },
      "source": [
        "import xgboost as xgb\n",
        "from xgboost import XGBClassifier\n",
        "import pickle\n",
        "from matplotlib import pyplot\n",
        "import time\n",
        "\n",
        "modelml = xgb.XGBClassifier(max_depth=16,\n",
        "                        subsample=0.9,\n",
        "                        objective='multi:softmax',\n",
        "                        num_class=3,\n",
        "                        n_estimators=500,\n",
        "                        learning_rate = 0.01)\n",
        "\n",
        "m1 = modelml.fit(xtrain_tfidf, ytrain)\n",
        "\n",
        "predict_p = modelml.predict_proba(xvalid_tfidf) # predicting on the validation set\n",
        "predict_c = modelml.predict(xvalid_tfidf).astype('int')  # 預測標籤結果\n"
      ],
      "execution_count": 0,
      "outputs": []
    },
    {
      "cell_type": "code",
      "metadata": {
        "id": "EPQxzGrlkTDc",
        "colab_type": "code",
        "outputId": "5556e249-20a3-4a26-d174-4ae7a1543793",
        "colab": {
          "base_uri": "https://localhost:8080/",
          "height": 317
        }
      },
      "source": [
        "## 製作 Confusion Matrix圖表來評估模型\n",
        "\n",
        "confusion_matrix = metrics.confusion_matrix(y_true = yvalid, y_pred = predict_c, labels=[-1,0,1])\n",
        "\n",
        "cm =pd.DataFrame(confusion_matrix , index = ['-1', '0', '1'], columns = [ '-1', '0', '1'])\n",
        "sns.heatmap(cm, annot = True)\n",
        "plt.xlabel('Predicted')\n",
        "plt.ylabel('True')\n",
        "plt.show()\n",
        "\n",
        "Accuracy = confusion_matrix.trace() / confusion_matrix.sum()\n",
        "MissClass = 1 - Accuracy\n",
        "\n",
        "print(\"Accuracy : %0.5f\" % Accuracy)\n",
        "print(\"MissClass: %0.5f\" % MissClass)\n"
      ],
      "execution_count": 0,
      "outputs": [
        {
          "output_type": "display_data",
          "data": {
            "image/png": "[encoded data removed]",
            "text/plain": [
              "<Figure size 432x288 with 2 Axes>"
            ]
          },
          "metadata": {
            "tags": []
          }
        },
        {
          "output_type": "stream",
          "text": [
            "Accuracy : 0.66667\n",
            "MissClass: 0.33333\n"
          ],
          "name": "stdout"
        }
      ]
    },
    {
      "cell_type": "markdown",
      "metadata": {
        "id": "n8xnrIJnlvYn",
        "colab_type": "text"
      },
      "source": [
        "### Save Model"
      ]
    },
    {
      "cell_type": "code",
      "metadata": {
        "id": "ND6qbYaVkuTr",
        "colab_type": "code",
        "colab": {}
      },
      "source": [
        "# 儲存模型\n",
        "from datetime import datetime\n",
        "from joblib import dump, load\n",
        "ymd = datetime.now().strftime(\"%Y%m%d%H%M\")\n",
        "AC = Accuracy.astype('str')\n",
        "\n",
        "dump(m1, path + 'm1-'+ymd+ AC +'.joblib')"
      ],
      "execution_count": 0,
      "outputs": []
    },
    {
      "cell_type": "markdown",
      "metadata": {
        "id": "kLr4RqGMQafD",
        "colab_type": "text"
      },
      "source": [
        "# Deep Learning"
      ]
    },
    {
      "cell_type": "code",
      "metadata": {
        "id": "UzOQomF0Qnne",
        "colab_type": "code",
        "outputId": "9bbee328-2d88-4ab6-a2e1-5e9f73bb6582",
        "colab": {
          "base_uri": "https://localhost:8080/",
          "height": 351
        }
      },
      "source": [
        "\n",
        "dft = df_tweets_pub\n",
        "Y_label = 'sent_TextBlob'  #sent_SWN, sent_TextBlob\n",
        "\n",
        "import seaborn as sns\n",
        "sns.countplot(x= Y_label, data=dft)"
      ],
      "execution_count": 0,
      "outputs": [
        {
          "output_type": "stream",
          "text": [
            "/usr/local/lib/python3.6/dist-packages/statsmodels/tools/_testing.py:19: FutureWarning: pandas.util.testing is deprecated. Use the functions in the public API at pandas.testing instead.\n",
            "  import pandas.util.testing as tm\n"
          ],
          "name": "stderr"
        },
        {
          "output_type": "execute_result",
          "data": {
            "text/plain": [
              "<matplotlib.axes._subplots.AxesSubplot at 0x7f31ecf9ce10>"
            ]
          },
          "metadata": {
            "tags": []
          },
          "execution_count": 16
        },
        {
          "output_type": "display_data",
          "data": {
            "image/png": "[encoded data removed]",
            "text/plain": [
              "<Figure size 432x288 with 1 Axes>"
            ]
          },
          "metadata": {
            "tags": [],
            "needs_background": "light"
          }
        }
      ]
    },
    {
      "cell_type": "markdown",
      "metadata": {
        "id": "0d8knVQz23g0",
        "colab_type": "text"
      },
      "source": [
        "## Pre-process"
      ]
    },
    {
      "cell_type": "code",
      "metadata": {
        "id": "r8eKlAf9Lv52",
        "colab_type": "code",
        "colab": {}
      },
      "source": [
        "\n",
        "import nltk\n",
        "from nltk.corpus import stopwords\n",
        "\n",
        "from numpy import array\n",
        "\n",
        "import keras\n",
        "\n",
        "from keras.preprocessing.text import one_hot\n",
        "from keras.preprocessing.sequence import pad_sequences\n",
        "from keras.preprocessing.text import Tokenizer\n",
        "\n",
        "from sklearn.model_selection import train_test_split\n",
        "from sklearn.utils import shuffle\n",
        "from sklearn import metrics\n"
      ],
      "execution_count": 0,
      "outputs": []
    },
    {
      "cell_type": "code",
      "metadata": {
        "id": "hKnj7Wyf3yM0",
        "colab_type": "code",
        "colab": {}
      },
      "source": [
        "X=[]\n",
        "sentences = list(dft['tweets'])\n",
        "\n",
        "for sen in sentences:\n",
        "    X.append(sentences)"
      ],
      "execution_count": 0,
      "outputs": []
    },
    {
      "cell_type": "code",
      "metadata": {
        "id": "H_PxSJ3UbCql",
        "colab_type": "code",
        "outputId": "7631b06d-bb32-4779-978f-2e289f702ded",
        "colab": {
          "base_uri": "https://localhost:8080/",
          "height": 51
        }
      },
      "source": [
        "no_Y = dft[Y_label].nunique()\n",
        "\n",
        "print(set(dft[Y_label]))\n",
        "print(no_Y)"
      ],
      "execution_count": 0,
      "outputs": [
        {
          "output_type": "stream",
          "text": [
            "{0, 1, -1}\n",
            "3\n"
          ],
          "name": "stdout"
        }
      ]
    },
    {
      "cell_type": "code",
      "metadata": {
        "id": "pRLJaCRvZXI2",
        "colab_type": "code",
        "outputId": "c9091e12-2fc6-461b-ed98-b6c5afab8774",
        "colab": {
          "base_uri": "https://localhost:8080/",
          "height": 34
        }
      },
      "source": [
        "# Label Encoding\n",
        "label_map = {0: 0, -1: -1, 1: 1}\n",
        "\n",
        "Y = dft[Y_label].map(label_map)\n",
        "set(Y)"
      ],
      "execution_count": 0,
      "outputs": [
        {
          "output_type": "execute_result",
          "data": {
            "text/plain": [
              "{-1, 0, 1}"
            ]
          },
          "metadata": {
            "tags": []
          },
          "execution_count": 24
        }
      ]
    },
    {
      "cell_type": "code",
      "metadata": {
        "id": "1l0DoXWS27OI",
        "colab_type": "code",
        "colab": {}
      },
      "source": [
        "# 資料切割：Train & Test\n",
        "\n",
        "from sklearn.model_selection import train_test_split\n",
        "from sklearn.utils import shuffle\n",
        "from sklearn import metrics\n",
        "\n",
        "X_train, X_test, y_train, y_test = train_test_split(X, Y , test_size=0.3, random_state=320) \n",
        "\n",
        "\"\"\"\n",
        "X_train=X_train.drop(columns=[Y_label])\n",
        "X_test =X_test.drop(columns=[Y_label])\n",
        "\n",
        "# 查看結果\n",
        "print(X_train.shape) \n",
        "print(X_test.shape)\n",
        "print(y_train.shape) \n",
        "print(y_test.shape)\n",
        "\"\"\"\n",
        "\n",
        "# 打亂資料集 (增加亂數性，讓模型訓練更好)\n",
        "X_train, y_train = shuffle(X_train, y_train)\n"
      ],
      "execution_count": 0,
      "outputs": []
    },
    {
      "cell_type": "code",
      "metadata": {
        "id": "b735i12FbAnh",
        "colab_type": "code",
        "colab": {}
      },
      "source": [
        "# Keep Label encoding form for Confusion Matrix\n",
        "y_train_LBE = y_train\n",
        "y_test_LBE  = y_test\n",
        "\n",
        "# One-Hot Encoding for Train NN\n",
        "from keras.utils import to_categorical\n",
        "\n",
        "y_train = to_categorical(y_train, num_classes=no_Y)\n",
        "y_test  = to_categorical(y_test, num_classes=no_Y)"
      ],
      "execution_count": 0,
      "outputs": []
    },
    {
      "cell_type": "markdown",
      "metadata": {
        "id": "rDfqTTnDLCwB",
        "colab_type": "text"
      },
      "source": [
        "### Tokenizer"
      ]
    },
    {
      "cell_type": "code",
      "metadata": {
        "id": "oH3a7Xj1LGWx",
        "colab_type": "code",
        "colab": {}
      },
      "source": [
        "tokenizer = Tokenizer(num_words=5000)\n",
        "tokenizer.fit_on_texts(X_train)\n",
        "\n",
        "X_train = tokenizer.texts_to_sequences(X_train)\n",
        "X_test = tokenizer.texts_to_sequences(X_test)"
      ],
      "execution_count": 0,
      "outputs": []
    },
    {
      "cell_type": "code",
      "metadata": {
        "id": "j63W-dzzLasx",
        "colab_type": "code",
        "colab": {}
      },
      "source": [
        "# Adding 1 because of reserved 0 index\n",
        "vocab_size = len(tokenizer.word_index) + 1\n",
        "\n",
        "maxlen = 100\n",
        "\n",
        "X_train = pad_sequences(X_train, padding='post', maxlen=maxlen)\n",
        "X_test = pad_sequences(X_test, padding='post', maxlen=maxlen)"
      ],
      "execution_count": 0,
      "outputs": []
    },
    {
      "cell_type": "markdown",
      "metadata": {
        "id": "gUTh4k2jHy_U",
        "colab_type": "text"
      },
      "source": [
        "### Enbedding Layer"
      ]
    },
    {
      "cell_type": "code",
      "metadata": {
        "id": "mt3RRgR8HxPD",
        "colab_type": "code",
        "colab": {}
      },
      "source": [
        "### load word2vec model ###\n",
        "#pre-train model download from: https://github.com/stanfordnlp/GloVe\n",
        "\n",
        "from numpy import asarray\n",
        "from numpy import zeros\n",
        "\n",
        "embeddings_dictionary = dict()\n",
        "glove_file = open('/content/gdrive/My Drive/0.Projects/Project/Colab Demo Data/glove6b100dtxt/glove.6B.100d.txt', encoding=\"utf8\")\n",
        "\n",
        "for line in glove_file:\n",
        "    records = line.split()\n",
        "    word = records[0]\n",
        "    vector_dimensions = asarray(records[1:], dtype='float32')\n",
        "    embeddings_dictionary [word] = vector_dimensions\n",
        "glove_file.close()"
      ],
      "execution_count": 0,
      "outputs": []
    },
    {
      "cell_type": "code",
      "metadata": {
        "id": "M5aBxvhxIvWz",
        "colab_type": "code",
        "colab": {}
      },
      "source": [
        "embedding_matrix = zeros((vocab_size, 100))\n",
        "for word, index in tokenizer.word_index.items():\n",
        "    embedding_vector = embeddings_dictionary.get(word)\n",
        "    if embedding_vector is not None:\n",
        "        embedding_matrix[index] = embedding_vector"
      ],
      "execution_count": 0,
      "outputs": []
    },
    {
      "cell_type": "markdown",
      "metadata": {
        "id": "GnDMVuxuMEkO",
        "colab_type": "text"
      },
      "source": [
        "## Build Model"
      ]
    },
    {
      "cell_type": "code",
      "metadata": {
        "id": "OPOlHw2s2Q5u",
        "colab_type": "code",
        "colab": {}
      },
      "source": [
        "from keras.models import Sequential\n",
        "from keras.layers.core import Activation, Dropout, Dense\n",
        "from keras.layers import Flatten\n",
        "\n",
        "from keras.layers.embeddings import Embedding"
      ],
      "execution_count": 0,
      "outputs": []
    },
    {
      "cell_type": "markdown",
      "metadata": {
        "id": "N2Q0CUTeucsZ",
        "colab_type": "text"
      },
      "source": [
        "### Regularizer"
      ]
    },
    {
      "cell_type": "code",
      "metadata": {
        "id": "n6sJ84lyuih7",
        "colab_type": "code",
        "colab": {}
      },
      "source": [
        "# 設定 regularizer \n",
        "''' Import l1,l2 (regularizer) '''\n",
        "from keras.regularizers import l1, l2, l1_l2\n",
        "\n",
        "import keras.backend as K\n",
        "# l1_l2_list = [(0, 0), (0.0005, 0), (0, 0.0005), (0.0005, 0.0005), (0, 0.005)] #@param {type:\"raw\"}\n",
        "\n",
        "l1_alpha = 0.0005\n",
        "l2_alpha = 0.0005"
      ],
      "execution_count": 0,
      "outputs": []
    },
    {
      "cell_type": "markdown",
      "metadata": {
        "id": "HsrIsSbLOMNY",
        "colab_type": "text"
      },
      "source": [
        "### Model 1: Simple NN"
      ]
    },
    {
      "cell_type": "code",
      "metadata": {
        "id": "KuDf8fphOLxs",
        "colab_type": "code",
        "outputId": "1cca4f0f-955b-41a5-ef82-220c34d9224c",
        "colab": {
          "base_uri": "https://localhost:8080/",
          "height": 272
        }
      },
      "source": [
        "model_NN = Sequential()\n",
        "\n",
        "embedding_layer = Embedding(vocab_size, 100, weights=[embedding_matrix], input_length=maxlen , trainable=False)\n",
        "model_NN.add(embedding_layer)\n",
        "model_NN.add(Flatten())\n",
        "model_NN.add(Dense(no_Y, activation='sigmoid', kernel_regularizer=l1_l2(l1=l1_alpha, l2=l2_alpha)))\n",
        "\n",
        "print(model_NN.summary())"
      ],
      "execution_count": 0,
      "outputs": [
        {
          "output_type": "stream",
          "text": [
            "Model: \"sequential_1\"\n",
            "_________________________________________________________________\n",
            "Layer (type)                 Output Shape              Param #   \n",
            "=================================================================\n",
            "embedding_1 (Embedding)      (None, 100, 100)          19500     \n",
            "_________________________________________________________________\n",
            "flatten_1 (Flatten)          (None, 10000)             0         \n",
            "_________________________________________________________________\n",
            "dense_1 (Dense)              (None, 3)                 30003     \n",
            "=================================================================\n",
            "Total params: 49,503\n",
            "Trainable params: 30,003\n",
            "Non-trainable params: 19,500\n",
            "_________________________________________________________________\n",
            "None\n"
          ],
          "name": "stdout"
        }
      ]
    },
    {
      "cell_type": "markdown",
      "metadata": {
        "id": "WHgiXI1TjUNf",
        "colab_type": "text"
      },
      "source": [
        "### Model 2: CNN"
      ]
    },
    {
      "cell_type": "code",
      "metadata": {
        "id": "O-uQXJWaIJzi",
        "colab_type": "code",
        "outputId": "5110534e-7f4a-4200-a376-d12124298861",
        "colab": {
          "base_uri": "https://localhost:8080/",
          "height": 306
        }
      },
      "source": [
        "from keras.layers import GlobalMaxPooling1D\n",
        "from keras.layers import Conv1D\n",
        "\n",
        "model_CNN = Sequential()\n",
        "\n",
        "embedding_layer = Embedding(vocab_size, 100, weights=[embedding_matrix], input_length=maxlen , trainable=False)\n",
        "\n",
        "model_CNN.add(embedding_layer)\n",
        "model_CNN.add(Conv1D(128, 5, activation='relu'))\n",
        "model_CNN.add(GlobalMaxPooling1D())\n",
        "model_CNN.add(Dense(no_Y, activation='sigmoid', kernel_regularizer=l1_l2(l1=l1_alpha, l2=l2_alpha)))\n",
        "\n",
        "print(model_CNN.summary())"
      ],
      "execution_count": 0,
      "outputs": [
        {
          "output_type": "stream",
          "text": [
            "Model: \"sequential_2\"\n",
            "_________________________________________________________________\n",
            "Layer (type)                 Output Shape              Param #   \n",
            "=================================================================\n",
            "embedding_2 (Embedding)      (None, 100, 100)          19500     \n",
            "_________________________________________________________________\n",
            "conv1d_1 (Conv1D)            (None, 96, 128)           64128     \n",
            "_________________________________________________________________\n",
            "global_max_pooling1d_1 (Glob (None, 128)               0         \n",
            "_________________________________________________________________\n",
            "dense_2 (Dense)              (None, 3)                 387       \n",
            "=================================================================\n",
            "Total params: 84,015\n",
            "Trainable params: 64,515\n",
            "Non-trainable params: 19,500\n",
            "_________________________________________________________________\n",
            "None\n"
          ],
          "name": "stdout"
        }
      ]
    },
    {
      "cell_type": "markdown",
      "metadata": {
        "id": "bJsrsIyuMy6e",
        "colab_type": "text"
      },
      "source": [
        "### Model 3: RNN (LSTM)"
      ]
    },
    {
      "cell_type": "code",
      "metadata": {
        "id": "XVcF7ITEMyDS",
        "colab_type": "code",
        "outputId": "179cf0c1-ebf5-412b-f64a-d67837a839b3",
        "colab": {
          "base_uri": "https://localhost:8080/",
          "height": 272
        }
      },
      "source": [
        "from keras.layers import LSTM\n",
        "\n",
        "model_LSTM = Sequential()\n",
        "\n",
        "embedding_layer = Embedding(vocab_size, 100, weights=[embedding_matrix], input_length=maxlen , trainable=False)\n",
        "\n",
        "model_LSTM.add(embedding_layer)\n",
        "model_LSTM.add(LSTM(128))\n",
        "model_LSTM.add(Dense(no_Y, activation='sigmoid', kernel_regularizer=l1_l2(l1=l1_alpha, l2=l2_alpha)))\n",
        "\n",
        "print(model_LSTM.summary())"
      ],
      "execution_count": 0,
      "outputs": [
        {
          "output_type": "stream",
          "text": [
            "Model: \"sequential_3\"\n",
            "_________________________________________________________________\n",
            "Layer (type)                 Output Shape              Param #   \n",
            "=================================================================\n",
            "embedding_3 (Embedding)      (None, 100, 100)          19500     \n",
            "_________________________________________________________________\n",
            "lstm_1 (LSTM)                (None, 128)               117248    \n",
            "_________________________________________________________________\n",
            "dense_3 (Dense)              (None, 3)                 387       \n",
            "=================================================================\n",
            "Total params: 137,135\n",
            "Trainable params: 117,635\n",
            "Non-trainable params: 19,500\n",
            "_________________________________________________________________\n",
            "None\n"
          ],
          "name": "stdout"
        }
      ]
    },
    {
      "cell_type": "markdown",
      "metadata": {
        "id": "3gxFtwOr2lPq",
        "colab_type": "text"
      },
      "source": [
        "### Model 4: DNN"
      ]
    },
    {
      "cell_type": "code",
      "metadata": {
        "id": "8bnGc6Q72qcO",
        "colab_type": "code",
        "outputId": "57b48c05-d089-450b-a55c-20a2bd7ff1b7",
        "colab": {
          "base_uri": "https://localhost:8080/",
          "height": 442
        }
      },
      "source": [
        "model_DNN = Sequential()\n",
        "\n",
        "# 活化函數清單 acti_list = ['sigmoid', 'relu', 'tanh', 'softsign'] #@param {type:\"raw\"}\n",
        "\n",
        "# 加入第一層 hidden layer (128 neurons) 與指定 input 的維度\n",
        "model_DNN.add(Dense(128, input_dim=X_train.shape[1], kernel_regularizer=l1_l2(l1=l1_alpha, l2=l2_alpha)))\n",
        "model_DNN.add(Activation('relu'))\n",
        "\n",
        "# 加入第二層 hidden layer (256 neurons)\n",
        "model_DNN.add(Dense(256, kernel_regularizer=l1_l2(l1=l1_alpha, l2=l2_alpha)))\n",
        "model_DNN.add(Activation('relu'))\n",
        "\n",
        "# 加入第三層 hidden layer (512 neurons)\n",
        "model_DNN.add(Dense(512, kernel_regularizer=l1_l2(l1=l1_alpha, l2=l2_alpha)))\n",
        "model_DNN.add(Activation('relu'))\n",
        "\n",
        "# 加入 output layer (5 neurons)\n",
        "model_DNN.add(Dense(no_Y, kernel_regularizer=l1_l2(l1=l1_alpha, l2=l2_alpha)))\n",
        "model_DNN.add(Activation('softmax'))\n",
        "\n",
        "# 觀察 model summary\n",
        "print(model_DNN.summary())"
      ],
      "execution_count": 0,
      "outputs": [
        {
          "output_type": "stream",
          "text": [
            "Model: \"sequential_4\"\n",
            "_________________________________________________________________\n",
            "Layer (type)                 Output Shape              Param #   \n",
            "=================================================================\n",
            "dense_4 (Dense)              (None, 128)               12928     \n",
            "_________________________________________________________________\n",
            "activation_1 (Activation)    (None, 128)               0         \n",
            "_________________________________________________________________\n",
            "dense_5 (Dense)              (None, 256)               33024     \n",
            "_________________________________________________________________\n",
            "activation_2 (Activation)    (None, 256)               0         \n",
            "_________________________________________________________________\n",
            "dense_6 (Dense)              (None, 512)               131584    \n",
            "_________________________________________________________________\n",
            "activation_3 (Activation)    (None, 512)               0         \n",
            "_________________________________________________________________\n",
            "dense_7 (Dense)              (None, 3)                 1539      \n",
            "_________________________________________________________________\n",
            "activation_4 (Activation)    (None, 3)                 0         \n",
            "=================================================================\n",
            "Total params: 179,075\n",
            "Trainable params: 179,075\n",
            "Non-trainable params: 0\n",
            "_________________________________________________________________\n",
            "None\n"
          ],
          "name": "stdout"
        }
      ]
    },
    {
      "cell_type": "markdown",
      "metadata": {
        "id": "_C4UceNMwLEJ",
        "colab_type": "text"
      },
      "source": [
        "## Compiling"
      ]
    },
    {
      "cell_type": "code",
      "metadata": {
        "id": "82lp8Kq3w53L",
        "colab_type": "code",
        "colab": {}
      },
      "source": [
        "# loss_funcs = ['mean_squared_error', 'mean_absolute_error', 'categorical_crossentropy', 'binary_crossentropy']  #@param {type:\"raw\"}\n",
        "\n",
        "loss_fun = 'categorical_crossentropy'"
      ],
      "execution_count": 0,
      "outputs": []
    },
    {
      "cell_type": "code",
      "metadata": {
        "id": "TmKtNYZSxMTa",
        "colab_type": "code",
        "colab": {}
      },
      "source": [
        "from keras.optimizers import SGD, Adam\n",
        "optim = 'Adam'\n",
        "\n",
        "# https://keras.io/optimizers/\n"
      ],
      "execution_count": 0,
      "outputs": []
    },
    {
      "cell_type": "code",
      "metadata": {
        "id": "9w49Pvz0wW7n",
        "colab_type": "code",
        "colab": {}
      },
      "source": [
        "CandidateModel = model_DNN  # model_NN, model_CNN, model_LSTM, model_DNN\n",
        "\n",
        "CandidateModel.compile(loss=loss_fun,\n",
        "                       optimizer=optim,\n",
        "                       metrics=['accuracy'])"
      ],
      "execution_count": 0,
      "outputs": []
    },
    {
      "cell_type": "markdown",
      "metadata": {
        "id": "9g_WJBQCKAeD",
        "colab_type": "text"
      },
      "source": [
        "## Training"
      ]
    },
    {
      "cell_type": "code",
      "metadata": {
        "id": "NL2EdXyqOukK",
        "colab_type": "code",
        "outputId": "0c0a3a27-6cf6-4727-be44-62119704ab81",
        "colab": {
          "base_uri": "https://localhost:8080/",
          "height": 751
        }
      },
      "source": [
        "\n",
        "batch_size = 16 \n",
        "epochs = 20\n",
        "\n",
        "\n",
        "import time\n",
        "start = time.process_time()\n",
        "\n",
        "fitting_history = CandidateModel.fit(X_train, y_train, \n",
        "                                     batch_size=batch_size, \n",
        "                                     epochs=epochs, \n",
        "                                     verbose=1,\n",
        "                                     shuffle=True, \n",
        "                                     validation_split=0.3)\n",
        "\n",
        "# 訓練結束\n",
        "end = time.process_time()\n",
        "print(\"訓練時間：%.3fs 秒\" % (end - start))\n",
        "\n",
        "# 測試結果\n",
        "predict =CandidateModel.predict_classes(X_test)  # 預測標籤結果\n",
        "predict_cross =CandidateModel.predict(X_test)    # 每個標籤的預測機率"
      ],
      "execution_count": 0,
      "outputs": [
        {
          "output_type": "stream",
          "text": [
            "Train on 98 samples, validate on 42 samples\n",
            "Epoch 1/20\n",
            "98/98 [==============================] - 2s 18ms/step - loss: 43.2888 - accuracy: 0.5000 - val_loss: 19.6971 - val_accuracy: 0.9048\n",
            "Epoch 2/20\n",
            "98/98 [==============================] - 0s 453us/step - loss: 19.8377 - accuracy: 0.6122 - val_loss: 22.3094 - val_accuracy: 0.9048\n",
            "Epoch 3/20\n",
            "98/98 [==============================] - 0s 459us/step - loss: 19.5772 - accuracy: 0.7245 - val_loss: 26.8071 - val_accuracy: 0.0476\n",
            "Epoch 4/20\n",
            "98/98 [==============================] - 0s 459us/step - loss: 13.1144 - accuracy: 0.6939 - val_loss: 10.8966 - val_accuracy: 0.9048\n",
            "Epoch 5/20\n",
            "98/98 [==============================] - 0s 492us/step - loss: 7.4352 - accuracy: 0.6531 - val_loss: 7.7496 - val_accuracy: 0.9048\n",
            "Epoch 6/20\n",
            "98/98 [==============================] - 0s 449us/step - loss: 5.4944 - accuracy: 0.6224 - val_loss: 5.6337 - val_accuracy: 0.9048\n",
            "Epoch 7/20\n",
            "98/98 [==============================] - 0s 527us/step - loss: 4.5372 - accuracy: 0.6224 - val_loss: 3.2318 - val_accuracy: 0.9048\n",
            "Epoch 8/20\n",
            "98/98 [==============================] - 0s 492us/step - loss: 3.3112 - accuracy: 0.6735 - val_loss: 3.5069 - val_accuracy: 0.9048\n",
            "Epoch 9/20\n",
            "98/98 [==============================] - 0s 489us/step - loss: 3.8668 - accuracy: 0.6327 - val_loss: 3.3723 - val_accuracy: 0.9048\n",
            "Epoch 10/20\n",
            "98/98 [==============================] - 0s 463us/step - loss: 3.8350 - accuracy: 0.6837 - val_loss: 2.4119 - val_accuracy: 0.9048\n",
            "Epoch 11/20\n",
            "98/98 [==============================] - 0s 484us/step - loss: 3.6185 - accuracy: 0.7449 - val_loss: 3.0335 - val_accuracy: 0.9048\n",
            "Epoch 12/20\n",
            "98/98 [==============================] - 0s 561us/step - loss: 3.2850 - accuracy: 0.6122 - val_loss: 3.8965 - val_accuracy: 0.9048\n",
            "Epoch 13/20\n",
            "98/98 [==============================] - 0s 465us/step - loss: 3.8792 - accuracy: 0.6837 - val_loss: 3.3616 - val_accuracy: 0.9048\n",
            "Epoch 14/20\n",
            "98/98 [==============================] - 0s 512us/step - loss: 3.0644 - accuracy: 0.5306 - val_loss: 2.6368 - val_accuracy: 0.9048\n",
            "Epoch 15/20\n",
            "98/98 [==============================] - 0s 519us/step - loss: 2.7686 - accuracy: 0.6020 - val_loss: 5.8742 - val_accuracy: 0.0476\n",
            "Epoch 16/20\n",
            "98/98 [==============================] - 0s 480us/step - loss: 3.9499 - accuracy: 0.5714 - val_loss: 3.0213 - val_accuracy: 0.9048\n",
            "Epoch 17/20\n",
            "98/98 [==============================] - 0s 489us/step - loss: 3.9698 - accuracy: 0.5510 - val_loss: 2.8671 - val_accuracy: 0.9048\n",
            "Epoch 18/20\n",
            "98/98 [==============================] - 0s 470us/step - loss: 3.7044 - accuracy: 0.5204 - val_loss: 2.2702 - val_accuracy: 0.9048\n",
            "Epoch 19/20\n",
            "98/98 [==============================] - 0s 476us/step - loss: 2.8369 - accuracy: 0.6327 - val_loss: 2.1413 - val_accuracy: 0.9048\n",
            "Epoch 20/20\n",
            "98/98 [==============================] - 0s 473us/step - loss: 2.5059 - accuracy: 0.5816 - val_loss: 2.0919 - val_accuracy: 0.9048\n",
            "訓練時間：2.334s 秒\n"
          ],
          "name": "stdout"
        }
      ]
    },
    {
      "cell_type": "markdown",
      "metadata": {
        "id": "5eEdQZvU3toV",
        "colab_type": "text"
      },
      "source": [
        "## Evaluation"
      ]
    },
    {
      "cell_type": "code",
      "metadata": {
        "id": "OcYJH6iC14RO",
        "colab_type": "code",
        "outputId": "f230740b-8f06-41b0-8dbf-f06f3f600f56",
        "colab": {
          "base_uri": "https://localhost:8080/",
          "height": 495
        }
      },
      "source": [
        "loss, accuracy = CandidateModel.evaluate(X_test, y_test, verbose=1)\n",
        "\n",
        "print(\"\\nLoss: %.3f, Accuracy: %.2f%%\" % (loss, accuracy*100))\n",
        "\n",
        "#######################\n",
        "\n",
        "loss     = fitting_history.history.get('loss')      # 取出訓練完成後loss的訓練數據\n",
        "acc      = fitting_history.history.get('accuracy')       # 取出訓練完成後accuracy的訓練數據\n",
        "val_loss = fitting_history.history.get('val_loss')  # 取出訓練完成後val_loss的訓練數據\n",
        "val_acc  = fitting_history.history.get('val_accuracy')   # 取出訓練完成後val_accuracy的訓練數據\n",
        "\n",
        "from pylab import rcParams\n",
        "rcParams['figure.figsize'] = 10, 7\n",
        "\n",
        "''' Visualize the loss and accuracy of both models'''\n",
        "plt.figure(0)\n",
        "plt.subplot(121)\n",
        "\n",
        "plt.plot(range(len(loss)), loss, label='Training loss')\n",
        "plt.plot(range(len(val_loss)), val_loss, label='validation loss')\n",
        "plt.title('Loss')\n",
        "plt.legend(loc='upper right')\n",
        "\n",
        "plt.subplot(122)\n",
        "\n",
        "plt.plot(range(len(acc)), acc, label='Training accuracy')\n",
        "plt.plot(range(len(val_acc)), val_acc, label='validation accuracy')\n",
        "plt.title('Accuracy')\n",
        "plt.legend(loc='lower right')\n",
        "\n",
        "plt.show()"
      ],
      "execution_count": 0,
      "outputs": [
        {
          "output_type": "stream",
          "text": [
            "60/60 [==============================] - 0s 129us/step\n",
            "\n",
            "Loss: 2.465, Accuracy: 78.33%\n"
          ],
          "name": "stdout"
        },
        {
          "output_type": "display_data",
          "data": {
            "image/png": "[encoded data removed]",
            "text/plain": [
              "<Figure size 720x504 with 2 Axes>"
            ]
          },
          "metadata": {
            "tags": [],
            "needs_background": "light"
          }
        }
      ]
    },
    {
      "cell_type": "code",
      "metadata": {
        "id": "0VzZPMqeVLHP",
        "colab_type": "code",
        "outputId": "2684b534-33b2-44b7-ae36-293b71539c45",
        "colab": {
          "base_uri": "https://localhost:8080/",
          "height": 476
        }
      },
      "source": [
        "## 製作 Confusion Matrix圖表來評估模型\n",
        "\n",
        "confusion_matrix = metrics.confusion_matrix(y_true=y_test_LBE, y_pred=predict, labels=[-1,0,1])\n",
        "\n",
        "cm =pd.DataFrame(confusion_matrix , index = ['-1', '0', '1'], columns = [ '-1', '0', '1'])\n",
        "sns.heatmap(cm, annot = True)\n",
        "plt.xlabel('Predicted')\n",
        "plt.ylabel('True')\n",
        "plt.show()\n",
        "\n",
        "Accuracy = confusion_matrix.trace() / confusion_matrix.sum()\n",
        "MissClass = 1 - Accuracy\n",
        "\n",
        "print(\"Accuracy : %0.5f\" % Accuracy)\n",
        "print(\"MissClass: %0.5f\" % MissClass)\n"
      ],
      "execution_count": 0,
      "outputs": [
        {
          "output_type": "display_data",
          "data": {
            "image/png": "[encoded data removed]",
            "text/plain": [
              "<Figure size 720x504 with 2 Axes>"
            ]
          },
          "metadata": {
            "tags": [],
            "needs_background": "light"
          }
        },
        {
          "output_type": "stream",
          "text": [
            "Accuracy : 0.78333\n",
            "MissClass: 0.21667\n"
          ],
          "name": "stdout"
        }
      ]
    },
    {
      "cell_type": "markdown",
      "metadata": {
        "id": "0ZrwknU6SA8_",
        "colab_type": "text"
      },
      "source": [
        "# Scoring"
      ]
    },
    {
      "cell_type": "code",
      "metadata": {
        "id": "bfYohh2uTaNB",
        "colab_type": "code",
        "outputId": "afcff895-716f-477a-a70e-c231cf80a50d",
        "colab": {
          "base_uri": "https://localhost:8080/",
          "height": 68
        }
      },
      "source": [
        "\n",
        "instance = 'I believe that Python 3.1 will print them nicer by default, without any code changing. But that is useless if you use any extensions that havent been updated to work with Python 3.1'\n",
        "\n",
        "instance = tokenizer.texts_to_sequences(instance)\n",
        "\n",
        "flat_list = []\n",
        "for sublist in instance:\n",
        "    for item in sublist:\n",
        "        flat_list.append(item)\n",
        "\n",
        "flat_list = [flat_list]\n",
        "\n",
        "instance = pad_sequences(flat_list, padding='post', maxlen=maxlen)\n",
        "\n",
        "predict_p = CandidateModel.predict(instance)\n",
        "predict_c = CandidateModel.predict_classes(instance)  # 預測標籤結果\n",
        "\n",
        "print(predict_p)\n",
        "print(predict_c)\n",
        "\n",
        "if predict_c[0]==1:\n",
        "    print(' Positive')\n",
        "elif predict_c[0]==-1:\n",
        "    print(' Negative')\n",
        "else:\n",
        "    print(' Nature')\n",
        "\n",
        "# Label Encoding\n",
        "# label_map = {'Nature': 0, 'Negative': 1, 'Positive': 2}\n",
        "\n"
      ],
      "execution_count": 0,
      "outputs": [
        {
          "output_type": "stream",
          "text": [
            "[[0.3315814  0.33683932 0.33157927]]\n",
            "[1]\n",
            " Positive\n"
          ],
          "name": "stdout"
        }
      ]
    }
  ]
}